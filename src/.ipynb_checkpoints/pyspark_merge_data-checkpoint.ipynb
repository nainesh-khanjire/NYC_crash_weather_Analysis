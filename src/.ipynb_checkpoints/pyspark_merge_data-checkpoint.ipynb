{
 "cells": [
  {
   "cell_type": "code",
   "execution_count": 3,
   "id": "szLCJtvPHcTG",
   "metadata": {
    "executionInfo": {
     "elapsed": 481,
     "status": "ok",
     "timestamp": 1677827691408,
     "user": {
      "displayName": "Nainesh Khanjire",
      "userId": "14213602997640838989"
     },
     "user_tz": -330
    },
    "id": "szLCJtvPHcTG"
   },
   "outputs": [],
   "source": [
    "# https://colab.research.google.com/drive/1bZeL8tReU2HmZUl0iIQJTDcAjc6M3M-k#gceVm=dbda-379505/us-west1-b/vmforcollab-vm"
   ]
  },
  {
   "cell_type": "code",
   "execution_count": 4,
   "id": "_6kA67vySz_V",
   "metadata": {
    "colab": {
     "base_uri": "https://localhost:8080/"
    },
    "executionInfo": {
     "elapsed": 41088,
     "status": "ok",
     "timestamp": 1677827732977,
     "user": {
      "displayName": "Nainesh Khanjire",
      "userId": "14213602997640838989"
     },
     "user_tz": -330
    },
    "id": "_6kA67vySz_V",
    "outputId": "82792118-4ef2-4456-f7a2-68b5c65a06d6"
   },
   "outputs": [
    {
     "name": "stdout",
     "output_type": "stream",
     "text": [
      "Looking in indexes: https://pypi.org/simple, https://us-python.pkg.dev/colab-wheels/public/simple/\n",
      "Requirement already satisfied: pandas in /usr/local/lib/python3.8/dist-packages (from -r /requirements.txt (line 1)) (1.3.5)\n",
      "Requirement already satisfied: numpy in /usr/local/lib/python3.8/dist-packages (from -r /requirements.txt (line 2)) (1.22.4)\n",
      "Requirement already satisfied: seaborn in /usr/local/lib/python3.8/dist-packages (from -r /requirements.txt (line 3)) (0.11.2)\n",
      "Requirement already satisfied: scikit-learn in /usr/local/lib/python3.8/dist-packages (from -r /requirements.txt (line 4)) (1.0.2)\n",
      "Requirement already satisfied: matplotlib in /usr/local/lib/python3.8/dist-packages (from -r /requirements.txt (line 5)) (3.5.3)\n",
      "Requirement already satisfied: tensorflow in /usr/local/lib/python3.8/dist-packages (from -r /requirements.txt (line 6)) (2.11.0)\n",
      "Requirement already satisfied: requests in /usr/local/lib/python3.8/dist-packages (from -r /requirements.txt (line 7)) (2.25.1)\n",
      "Requirement already satisfied: SQLAlchemy in /usr/local/lib/python3.8/dist-packages (from -r /requirements.txt (line 8)) (1.4.46)\n",
      "Requirement already satisfied: pymongo in /usr/local/lib/python3.8/dist-packages (from -r /requirements.txt (line 9)) (4.3.3)\n",
      "Collecting pyspark\n",
      "  Downloading pyspark-3.3.2.tar.gz (281.4 MB)\n",
      "\u001b[2K     \u001b[90m━━━━━━━━━━━━━━━━━━━━━━━━━━━━━━━━━━━━━━━\u001b[0m \u001b[32m281.4/281.4 MB\u001b[0m \u001b[31m4.7 MB/s\u001b[0m eta \u001b[36m0:00:00\u001b[0m\n",
      "\u001b[?25h  Preparing metadata (setup.py) ... \u001b[?25l\u001b[?25hdone\n",
      "Requirement already satisfied: plotly in /usr/local/lib/python3.8/dist-packages (from -r /requirements.txt (line 11)) (5.5.0)\n",
      "Collecting dash\n",
      "  Downloading dash-2.8.1-py3-none-any.whl (9.9 MB)\n",
      "\u001b[2K     \u001b[90m━━━━━━━━━━━━━━━━━━━━━━━━━━━━━━━━━━━━━━━━\u001b[0m \u001b[32m9.9/9.9 MB\u001b[0m \u001b[31m68.5 MB/s\u001b[0m eta \u001b[36m0:00:00\u001b[0m\n",
      "\u001b[?25hRequirement already satisfied: pytz>=2017.3 in /usr/local/lib/python3.8/dist-packages (from pandas->-r /requirements.txt (line 1)) (2022.7.1)\n",
      "Requirement already satisfied: python-dateutil>=2.7.3 in /usr/local/lib/python3.8/dist-packages (from pandas->-r /requirements.txt (line 1)) (2.8.2)\n",
      "Requirement already satisfied: scipy>=1.0 in /usr/local/lib/python3.8/dist-packages (from seaborn->-r /requirements.txt (line 3)) (1.7.3)\n",
      "Requirement already satisfied: threadpoolctl>=2.0.0 in /usr/local/lib/python3.8/dist-packages (from scikit-learn->-r /requirements.txt (line 4)) (3.1.0)\n",
      "Requirement already satisfied: joblib>=0.11 in /usr/local/lib/python3.8/dist-packages (from scikit-learn->-r /requirements.txt (line 4)) (1.2.0)\n",
      "Requirement already satisfied: pyparsing>=2.2.1 in /usr/local/lib/python3.8/dist-packages (from matplotlib->-r /requirements.txt (line 5)) (3.0.9)\n",
      "Requirement already satisfied: pillow>=6.2.0 in /usr/local/lib/python3.8/dist-packages (from matplotlib->-r /requirements.txt (line 5)) (8.4.0)\n",
      "Requirement already satisfied: cycler>=0.10 in /usr/local/lib/python3.8/dist-packages (from matplotlib->-r /requirements.txt (line 5)) (0.11.0)\n",
      "Requirement already satisfied: packaging>=20.0 in /usr/local/lib/python3.8/dist-packages (from matplotlib->-r /requirements.txt (line 5)) (23.0)\n",
      "Requirement already satisfied: fonttools>=4.22.0 in /usr/local/lib/python3.8/dist-packages (from matplotlib->-r /requirements.txt (line 5)) (4.38.0)\n",
      "Requirement already satisfied: kiwisolver>=1.0.1 in /usr/local/lib/python3.8/dist-packages (from matplotlib->-r /requirements.txt (line 5)) (1.4.4)\n",
      "Requirement already satisfied: libclang>=13.0.0 in /usr/local/lib/python3.8/dist-packages (from tensorflow->-r /requirements.txt (line 6)) (15.0.6.1)\n",
      "Requirement already satisfied: typing-extensions>=3.6.6 in /usr/local/lib/python3.8/dist-packages (from tensorflow->-r /requirements.txt (line 6)) (4.5.0)\n",
      "Requirement already satisfied: astunparse>=1.6.0 in /usr/local/lib/python3.8/dist-packages (from tensorflow->-r /requirements.txt (line 6)) (1.6.3)\n",
      "Requirement already satisfied: gast<=0.4.0,>=0.2.1 in /usr/local/lib/python3.8/dist-packages (from tensorflow->-r /requirements.txt (line 6)) (0.4.0)\n",
      "Requirement already satisfied: wrapt>=1.11.0 in /usr/local/lib/python3.8/dist-packages (from tensorflow->-r /requirements.txt (line 6)) (1.15.0)\n",
      "Requirement already satisfied: grpcio<2.0,>=1.24.3 in /usr/local/lib/python3.8/dist-packages (from tensorflow->-r /requirements.txt (line 6)) (1.51.3)\n",
      "Requirement already satisfied: h5py>=2.9.0 in /usr/local/lib/python3.8/dist-packages (from tensorflow->-r /requirements.txt (line 6)) (3.1.0)\n",
      "Requirement already satisfied: tensorflow-io-gcs-filesystem>=0.23.1 in /usr/local/lib/python3.8/dist-packages (from tensorflow->-r /requirements.txt (line 6)) (0.31.0)\n",
      "Requirement already satisfied: absl-py>=1.0.0 in /usr/local/lib/python3.8/dist-packages (from tensorflow->-r /requirements.txt (line 6)) (1.4.0)\n",
      "Requirement already satisfied: keras<2.12,>=2.11.0 in /usr/local/lib/python3.8/dist-packages (from tensorflow->-r /requirements.txt (line 6)) (2.11.0)\n",
      "Requirement already satisfied: protobuf<3.20,>=3.9.2 in /usr/local/lib/python3.8/dist-packages (from tensorflow->-r /requirements.txt (line 6)) (3.19.6)\n",
      "Requirement already satisfied: tensorboard<2.12,>=2.11 in /usr/local/lib/python3.8/dist-packages (from tensorflow->-r /requirements.txt (line 6)) (2.11.2)\n",
      "Requirement already satisfied: opt-einsum>=2.3.2 in /usr/local/lib/python3.8/dist-packages (from tensorflow->-r /requirements.txt (line 6)) (3.3.0)\n",
      "Requirement already satisfied: six>=1.12.0 in /usr/local/lib/python3.8/dist-packages (from tensorflow->-r /requirements.txt (line 6)) (1.15.0)\n",
      "Requirement already satisfied: google-pasta>=0.1.1 in /usr/local/lib/python3.8/dist-packages (from tensorflow->-r /requirements.txt (line 6)) (0.2.0)\n",
      "Requirement already satisfied: tensorflow-estimator<2.12,>=2.11.0 in /usr/local/lib/python3.8/dist-packages (from tensorflow->-r /requirements.txt (line 6)) (2.11.0)\n",
      "Requirement already satisfied: flatbuffers>=2.0 in /usr/local/lib/python3.8/dist-packages (from tensorflow->-r /requirements.txt (line 6)) (23.1.21)\n",
      "Requirement already satisfied: setuptools in /usr/local/lib/python3.8/dist-packages (from tensorflow->-r /requirements.txt (line 6)) (57.4.0)\n",
      "Requirement already satisfied: termcolor>=1.1.0 in /usr/local/lib/python3.8/dist-packages (from tensorflow->-r /requirements.txt (line 6)) (2.2.0)\n",
      "Requirement already satisfied: certifi>=2017.4.17 in /usr/local/lib/python3.8/dist-packages (from requests->-r /requirements.txt (line 7)) (2022.12.7)\n",
      "Requirement already satisfied: idna<3,>=2.5 in /usr/local/lib/python3.8/dist-packages (from requests->-r /requirements.txt (line 7)) (2.10)\n",
      "Requirement already satisfied: urllib3<1.27,>=1.21.1 in /usr/local/lib/python3.8/dist-packages (from requests->-r /requirements.txt (line 7)) (1.26.14)\n",
      "Requirement already satisfied: chardet<5,>=3.0.2 in /usr/local/lib/python3.8/dist-packages (from requests->-r /requirements.txt (line 7)) (4.0.0)\n",
      "Requirement already satisfied: greenlet!=0.4.17 in /usr/local/lib/python3.8/dist-packages (from SQLAlchemy->-r /requirements.txt (line 8)) (2.0.2)\n",
      "Requirement already satisfied: dnspython<3.0.0,>=1.16.0 in /usr/local/lib/python3.8/dist-packages (from pymongo->-r /requirements.txt (line 9)) (2.3.0)\n",
      "Collecting py4j==0.10.9.5\n",
      "  Downloading py4j-0.10.9.5-py2.py3-none-any.whl (199 kB)\n",
      "\u001b[2K     \u001b[90m━━━━━━━━━━━━━━━━━━━━━━━━━━━━━━━━━━━━━━\u001b[0m \u001b[32m199.7/199.7 KB\u001b[0m \u001b[31m16.0 MB/s\u001b[0m eta \u001b[36m0:00:00\u001b[0m\n",
      "\u001b[?25hRequirement already satisfied: tenacity>=6.2.0 in /usr/local/lib/python3.8/dist-packages (from plotly->-r /requirements.txt (line 11)) (8.2.1)\n",
      "Requirement already satisfied: Flask>=1.0.4 in /usr/local/lib/python3.8/dist-packages (from dash->-r /requirements.txt (line 12)) (2.2.3)\n",
      "Collecting dash-core-components==2.0.0\n",
      "  Downloading dash_core_components-2.0.0-py3-none-any.whl (3.8 kB)\n",
      "Collecting dash-table==5.0.0\n",
      "  Downloading dash_table-5.0.0-py3-none-any.whl (3.9 kB)\n",
      "Collecting dash-html-components==2.0.0\n",
      "  Downloading dash_html_components-2.0.0-py3-none-any.whl (4.1 kB)\n",
      "Requirement already satisfied: wheel<1.0,>=0.23.0 in /usr/local/lib/python3.8/dist-packages (from astunparse>=1.6.0->tensorflow->-r /requirements.txt (line 6)) (0.38.4)\n",
      "Requirement already satisfied: importlib-metadata>=3.6.0 in /usr/local/lib/python3.8/dist-packages (from Flask>=1.0.4->dash->-r /requirements.txt (line 12)) (6.0.0)\n",
      "Requirement already satisfied: Jinja2>=3.0 in /usr/local/lib/python3.8/dist-packages (from Flask>=1.0.4->dash->-r /requirements.txt (line 12)) (3.1.2)\n",
      "Requirement already satisfied: itsdangerous>=2.0 in /usr/local/lib/python3.8/dist-packages (from Flask>=1.0.4->dash->-r /requirements.txt (line 12)) (2.1.2)\n",
      "Requirement already satisfied: Werkzeug>=2.2.2 in /usr/local/lib/python3.8/dist-packages (from Flask>=1.0.4->dash->-r /requirements.txt (line 12)) (2.2.3)\n",
      "Requirement already satisfied: click>=8.0 in /usr/local/lib/python3.8/dist-packages (from Flask>=1.0.4->dash->-r /requirements.txt (line 12)) (8.1.3)\n",
      "Requirement already satisfied: tensorboard-plugin-wit>=1.6.0 in /usr/local/lib/python3.8/dist-packages (from tensorboard<2.12,>=2.11->tensorflow->-r /requirements.txt (line 6)) (1.8.1)\n",
      "Requirement already satisfied: google-auth<3,>=1.6.3 in /usr/local/lib/python3.8/dist-packages (from tensorboard<2.12,>=2.11->tensorflow->-r /requirements.txt (line 6)) (2.16.1)\n",
      "Requirement already satisfied: markdown>=2.6.8 in /usr/local/lib/python3.8/dist-packages (from tensorboard<2.12,>=2.11->tensorflow->-r /requirements.txt (line 6)) (3.4.1)\n",
      "Requirement already satisfied: google-auth-oauthlib<0.5,>=0.4.1 in /usr/local/lib/python3.8/dist-packages (from tensorboard<2.12,>=2.11->tensorflow->-r /requirements.txt (line 6)) (0.4.6)\n",
      "Requirement already satisfied: tensorboard-data-server<0.7.0,>=0.6.0 in /usr/local/lib/python3.8/dist-packages (from tensorboard<2.12,>=2.11->tensorflow->-r /requirements.txt (line 6)) (0.6.1)\n",
      "Requirement already satisfied: rsa<5,>=3.1.4 in /usr/local/lib/python3.8/dist-packages (from google-auth<3,>=1.6.3->tensorboard<2.12,>=2.11->tensorflow->-r /requirements.txt (line 6)) (4.9)\n",
      "Requirement already satisfied: cachetools<6.0,>=2.0.0 in /usr/local/lib/python3.8/dist-packages (from google-auth<3,>=1.6.3->tensorboard<2.12,>=2.11->tensorflow->-r /requirements.txt (line 6)) (5.3.0)\n",
      "Requirement already satisfied: pyasn1-modules>=0.2.1 in /usr/local/lib/python3.8/dist-packages (from google-auth<3,>=1.6.3->tensorboard<2.12,>=2.11->tensorflow->-r /requirements.txt (line 6)) (0.2.8)\n",
      "Requirement already satisfied: requests-oauthlib>=0.7.0 in /usr/local/lib/python3.8/dist-packages (from google-auth-oauthlib<0.5,>=0.4.1->tensorboard<2.12,>=2.11->tensorflow->-r /requirements.txt (line 6)) (1.3.1)\n",
      "Requirement already satisfied: zipp>=0.5 in /usr/local/lib/python3.8/dist-packages (from importlib-metadata>=3.6.0->Flask>=1.0.4->dash->-r /requirements.txt (line 12)) (3.15.0)\n",
      "Requirement already satisfied: MarkupSafe>=2.0 in /usr/local/lib/python3.8/dist-packages (from Jinja2>=3.0->Flask>=1.0.4->dash->-r /requirements.txt (line 12)) (2.1.2)\n",
      "Requirement already satisfied: pyasn1<0.5.0,>=0.4.6 in /usr/local/lib/python3.8/dist-packages (from pyasn1-modules>=0.2.1->google-auth<3,>=1.6.3->tensorboard<2.12,>=2.11->tensorflow->-r /requirements.txt (line 6)) (0.4.8)\n",
      "Requirement already satisfied: oauthlib>=3.0.0 in /usr/local/lib/python3.8/dist-packages (from requests-oauthlib>=0.7.0->google-auth-oauthlib<0.5,>=0.4.1->tensorboard<2.12,>=2.11->tensorflow->-r /requirements.txt (line 6)) (3.2.2)\n",
      "Building wheels for collected packages: pyspark\n",
      "  Building wheel for pyspark (setup.py) ... \u001b[?25l\u001b[?25hdone\n",
      "  Created wheel for pyspark: filename=pyspark-3.3.2-py2.py3-none-any.whl size=281824025 sha256=108de5d46c1313fba94014288da18213e9dcdc87079d7bf57aa0b9b379af7db7\n",
      "  Stored in directory: /root/.cache/pip/wheels/b1/59/a0/a1a0624b5e865fd389919c1a10f53aec9b12195d6747710baf\n",
      "Successfully built pyspark\n",
      "Installing collected packages: py4j, dash-table, dash-html-components, dash-core-components, pyspark, dash\n",
      "Successfully installed dash-2.8.1 dash-core-components-2.0.0 dash-html-components-2.0.0 dash-table-5.0.0 py4j-0.10.9.5 pyspark-3.3.2\n"
     ]
    }
   ],
   "source": [
    "#!pip install -r /requirements.txt"
   ]
  },
  {
   "cell_type": "code",
   "execution_count": 5,
   "id": "eb85da08",
   "metadata": {
    "executionInfo": {
     "elapsed": 3,
     "status": "ok",
     "timestamp": 1677827732977,
     "user": {
      "displayName": "Nainesh Khanjire",
      "userId": "14213602997640838989"
     },
     "user_tz": -330
    },
    "id": "eb85da08"
   },
   "outputs": [],
   "source": [
    "from pyspark.sql import SparkSession\n",
    "from pyspark.sql import functions as F\n",
    "from pyspark.sql import types as T\n",
    "from pyspark.sql import Row\n",
    "\n",
    "#import findspark\n",
    "#findspark.init()\n",
    "mongodb_spark_jars_path=r'/jars'\n",
    "input_file_path=r'/vehicle_collision_data.csv'"
   ]
  },
  {
   "cell_type": "code",
   "execution_count": 6,
   "id": "9e7b1dd2",
   "metadata": {
    "colab": {
     "base_uri": "https://localhost:8080/",
     "height": 219
    },
    "executionInfo": {
     "elapsed": 5570,
     "status": "ok",
     "timestamp": 1677827738544,
     "user": {
      "displayName": "Nainesh Khanjire",
      "userId": "14213602997640838989"
     },
     "user_tz": -330
    },
    "id": "9e7b1dd2",
    "outputId": "032e3822-6069-4d98-f4a5-f437b62dbe8a"
   },
   "outputs": [
    {
     "data": {
      "text/html": [
       "\n",
       "            <div>\n",
       "                <p><b>SparkSession - in-memory</b></p>\n",
       "                \n",
       "        <div>\n",
       "            <p><b>SparkContext</b></p>\n",
       "\n",
       "            <p><a href=\"http://c77fa803f893:4040\">Spark UI</a></p>\n",
       "\n",
       "            <dl>\n",
       "              <dt>Version</dt>\n",
       "                <dd><code>v3.3.2</code></dd>\n",
       "              <dt>Master</dt>\n",
       "                <dd><code>local[*]</code></dd>\n",
       "              <dt>AppName</dt>\n",
       "                <dd><code>merged</code></dd>\n",
       "            </dl>\n",
       "        </div>\n",
       "        \n",
       "            </div>\n",
       "        "
      ],
      "text/plain": [
       "<pyspark.sql.session.SparkSession at 0x7eff44329970>"
      ]
     },
     "execution_count": 6,
     "metadata": {},
     "output_type": "execute_result"
    }
   ],
   "source": [
    "# spark=SparkSession.builder.config(\"spark.mongodb.input.uri\",\"mongodb://localhost:27017/test\").config(\"spark.mongodb.output.uri\",\"mongodb://localhost:27017/mydb.spotify\").config(\"spark.mongodb.input.uri\",\"mongodb://localhost:27017/test.employee\").config(\"spark.mongodb.output.uri\",\"mongodb://localhost:27017/test.employee\").config(\"spark.jars\", \"\"+mongodb_spark_jars_path+\"\\\\mongo-spark-connector_2.12-3.0.1.jar,\"+mongodb_spark_jars_path+\"\\\\bson-4.9.0.jar,\"+mongodb_spark_jars_path+\"\\\\mongodb-driver-core-4.0.5.jar,\"+mongodb_spark_jars_path+\"\\\\mongodb-driver-sync-4.0.5.jar\").getOrCreate()\n",
    "\n",
    "\n",
    "\n",
    "# test3 working\n",
    "from pyspark.sql import SparkSession\n",
    "\n",
    "spark = SparkSession.builder.appName(\"merged\").config(\"spark.jars\", \"../jars/\").config(\"spark.driver.memory\", \"8g\").config(\"spark.executor.memory\", \"8g\").getOrCreate()\n",
    "\n",
    "# from pyspark.sql import SparkSession\n",
    "\n",
    "# spark = SparkSession.builder \\\n",
    "#     .appName(\"MyApp\") \\\n",
    "#     .config(\"spark.driver.memory\", \"8g\") \\\n",
    "#     .config(\"spark.executor.memory\", \"8g\") \\\n",
    "#     .getOrCreate()\n",
    "\n",
    "\n",
    "spark"
   ]
  },
  {
   "cell_type": "code",
   "execution_count": 7,
   "id": "4ddab57f",
   "metadata": {
    "executionInfo": {
     "elapsed": 5,
     "status": "ok",
     "timestamp": 1677827738544,
     "user": {
      "displayName": "Nainesh Khanjire",
      "userId": "14213602997640838989"
     },
     "user_tz": -330
    },
    "id": "4ddab57f"
   },
   "outputs": [],
   "source": [
    "from pyspark.sql.types import StructType, StructField, StringType, IntegerType, DateType, TimestampType, FloatType\n",
    "from datetime import datetime\n",
    "from pyspark.sql.types import * \n",
    "schema=StructType([     StructField(\"crash_date\",StringType(),True), \n",
    "                        StructField(\"crash_time\",StringType(),True),\n",
    "                        StructField(\"borough\",StringType(),True),\n",
    "                        StructField(\"zip_code\",IntegerType(),True), \n",
    "                        StructField(\"latitude\",IntegerType(),True), \n",
    "                        StructField(\"longitude\",IntegerType(),True), \n",
    "                        StructField(\"location\",StringType(),True),\n",
    "                        StructField(\"street_name\",StringType(),True),\n",
    "                        StructField(\"cross_street_name\",StringType(),True),\n",
    "                        StructField(\"off_street_name\",StringType(),True),\n",
    "                        StructField(\"number_of_people_injured\",IntegerType(),True), \n",
    "                        StructField(\"number_of_people_killed\",IntegerType(),True), \n",
    "                        StructField(\"number_of_pedestrians_injured\",IntegerType(),True),\n",
    "                        StructField(\"number_of_pedestrians_killed\",IntegerType(),True), \n",
    "                        StructField(\"number_of_cyclist_injured\",IntegerType(),True), \n",
    "                        StructField(\"number_of_cyclist_killed\",IntegerType(),True), \n",
    "                        StructField(\"number_of_motorist_injured\",IntegerType(),True),\n",
    "                        StructField(\"number_of_motorist_killed\",IntegerType(),True), \n",
    "                        StructField(\"contributing_factor_vehicle_1\",StringType(),True), \n",
    "                        StructField(\"contributing_factor_vehicle_2\",StringType(),True), \n",
    "                        StructField(\"contributing_factor_vehicle_3\",StringType(),True),\n",
    "                        StructField(\"contributing_factor_vehicle_4\",StringType(),True),\n",
    "                        StructField(\"contributing_factor_vehicle_5\",StringType(),True),\n",
    "                        StructField(\"collision_id\",IntegerType(),True),\n",
    "                        StructField(\"vehicle_type_code_1\",StringType(),True), \n",
    "                        StructField(\"vehicle_type_code_2\",StringType(),True), \n",
    "                        StructField(\"vehicle_type_code_3\",StringType(),True),\n",
    "                        StructField(\"vehicle_type_code_4\",StringType(),True), \n",
    "                        StructField(\"vehicle_type_code_5\",StringType(),True) \n",
    "                \n",
    "                    ])"
   ]
  },
  {
   "cell_type": "code",
   "execution_count": 8,
   "id": "cd0a956c",
   "metadata": {
    "executionInfo": {
     "elapsed": 2772,
     "status": "ok",
     "timestamp": 1677827741312,
     "user": {
      "displayName": "Nainesh Khanjire",
      "userId": "14213602997640838989"
     },
     "user_tz": -330
    },
    "id": "cd0a956c"
   },
   "outputs": [],
   "source": [
    "crash = spark.read.option(\"header\", \"true\").schema(schema).csv(input_file_path)"
   ]
  },
  {
   "cell_type": "code",
   "execution_count": 9,
   "id": "7b912cc0",
   "metadata": {
    "colab": {
     "base_uri": "https://localhost:8080/"
    },
    "executionInfo": {
     "elapsed": 10,
     "status": "ok",
     "timestamp": 1677827741312,
     "user": {
      "displayName": "Nainesh Khanjire",
      "userId": "14213602997640838989"
     },
     "user_tz": -330
    },
    "id": "7b912cc0",
    "outputId": "11b562f9-9723-44d9-b116-90b0b2c0e88a"
   },
   "outputs": [
    {
     "name": "stdout",
     "output_type": "stream",
     "text": [
      "root\n",
      " |-- crash_date: string (nullable = true)\n",
      " |-- crash_time: string (nullable = true)\n",
      " |-- borough: string (nullable = true)\n",
      " |-- zip_code: integer (nullable = true)\n",
      " |-- latitude: integer (nullable = true)\n",
      " |-- longitude: integer (nullable = true)\n",
      " |-- location: string (nullable = true)\n",
      " |-- street_name: string (nullable = true)\n",
      " |-- cross_street_name: string (nullable = true)\n",
      " |-- off_street_name: string (nullable = true)\n",
      " |-- number_of_people_injured: integer (nullable = true)\n",
      " |-- number_of_people_killed: integer (nullable = true)\n",
      " |-- number_of_pedestrians_injured: integer (nullable = true)\n",
      " |-- number_of_pedestrians_killed: integer (nullable = true)\n",
      " |-- number_of_cyclist_injured: integer (nullable = true)\n",
      " |-- number_of_cyclist_killed: integer (nullable = true)\n",
      " |-- number_of_motorist_injured: integer (nullable = true)\n",
      " |-- number_of_motorist_killed: integer (nullable = true)\n",
      " |-- contributing_factor_vehicle_1: string (nullable = true)\n",
      " |-- contributing_factor_vehicle_2: string (nullable = true)\n",
      " |-- contributing_factor_vehicle_3: string (nullable = true)\n",
      " |-- contributing_factor_vehicle_4: string (nullable = true)\n",
      " |-- contributing_factor_vehicle_5: string (nullable = true)\n",
      " |-- collision_id: integer (nullable = true)\n",
      " |-- vehicle_type_code_1: string (nullable = true)\n",
      " |-- vehicle_type_code_2: string (nullable = true)\n",
      " |-- vehicle_type_code_3: string (nullable = true)\n",
      " |-- vehicle_type_code_4: string (nullable = true)\n",
      " |-- vehicle_type_code_5: string (nullable = true)\n",
      "\n"
     ]
    }
   ],
   "source": [
    "crash.printSchema()"
   ]
  },
  {
   "cell_type": "code",
   "execution_count": 10,
   "id": "0d12a9dc",
   "metadata": {
    "colab": {
     "base_uri": "https://localhost:8080/"
    },
    "executionInfo": {
     "elapsed": 4248,
     "status": "ok",
     "timestamp": 1677827745551,
     "user": {
      "displayName": "Nainesh Khanjire",
      "userId": "14213602997640838989"
     },
     "user_tz": -330
    },
    "id": "0d12a9dc",
    "outputId": "824699cc-dd0e-4245-c021-092b7b4bad25"
   },
   "outputs": [
    {
     "name": "stdout",
     "output_type": "stream",
     "text": [
      "+----------+----------+---------+--------+--------+---------+-----------------------+----------------------------+------------------------------+---------------------------+------------------------+-----------------------+-----------------------------+----------------------------+-------------------------+------------------------+--------------------------+-------------------------+------------------------------+-----------------------------+-----------------------------+-----------------------------+-----------------------------+------------+-----------------------------------+-----------------------------------+-------------------+-------------------+-------------------+----+----------------+\n",
      "|crash_date|crash_time|borough  |zip_code|latitude|longitude|location               |street_name                 |cross_street_name             |off_street_name            |number_of_people_injured|number_of_people_killed|number_of_pedestrians_injured|number_of_pedestrians_killed|number_of_cyclist_injured|number_of_cyclist_killed|number_of_motorist_injured|number_of_motorist_killed|contributing_factor_vehicle_1 |contributing_factor_vehicle_2|contributing_factor_vehicle_3|contributing_factor_vehicle_4|contributing_factor_vehicle_5|collision_id|vehicle_type_code_1                |vehicle_type_code_2                |vehicle_type_code_3|vehicle_type_code_4|vehicle_type_code_5|hour|crash_date_time |\n",
      "+----------+----------+---------+--------+--------+---------+-----------------------+----------------------------+------------------------------+---------------------------+------------------------+-----------------------+-----------------------------+----------------------------+-------------------------+------------------------+--------------------------+-------------------------+------------------------------+-----------------------------+-----------------------------+-----------------------------+-----------------------------+------------+-----------------------------------+-----------------------------------+-------------------+-------------------+-------------------+----+----------------+\n",
      "|09/11/2021|2:39      |null     |null    |null    |null     |null                   |WHITESTONE EXPRESSWAY       |20 AVENUE                     |null                       |2                       |0                      |0                            |0                           |0                        |0                       |2                         |0                        |Aggressive Driving/Road Rage  |Unspecified                  |null                         |null                         |null                         |4455765     |Sedan                              |Sedan                              |null               |null               |null               |2   |09/11/2021 2:00 |\n",
      "|03/26/2022|11:45     |null     |null    |null    |null     |null                   |QUEENSBORO BRIDGE UPPER     |null                          |null                       |1                       |0                      |0                            |0                           |0                        |0                       |1                         |0                        |Pavement Slippery             |null                         |null                         |null                         |null                         |4513547     |Sedan                              |null                               |null               |null               |null               |11  |03/26/2022 11:00|\n",
      "|06/29/2022|6:55      |null     |null    |null    |null     |null                   |THROGS NECK BRIDGE          |null                          |null                       |0                       |0                      |0                            |0                           |0                        |0                       |0                         |0                        |Following Too Closely         |Unspecified                  |null                         |null                         |null                         |4541903     |Sedan                              |Pick-up Truck                      |null               |null               |null               |6   |06/29/2022 6:00 |\n",
      "|09/11/2021|9:35      |BROOKLYN |11208   |null    |null     |(40.667202, -73.8665)  |null                        |null                          |1211      LORING AVENUE    |0                       |0                      |0                            |0                           |0                        |0                       |0                         |0                        |Unspecified                   |null                         |null                         |null                         |null                         |4456314     |Sedan                              |null                               |null               |null               |null               |9   |09/11/2021 9:00 |\n",
      "|12/14/2021|8:13      |BROOKLYN |11233   |null    |null     |(40.683304, -73.917274)|SARATOGA AVENUE             |DECATUR STREET                |null                       |0                       |0                      |0                            |0                           |0                        |0                       |0                         |0                        |null                          |null                         |null                         |null                         |null                         |4486609     |null                               |null                               |null               |null               |null               |8   |12/14/2021 8:00 |\n",
      "|04/14/2021|12:47     |null     |null    |null    |null     |null                   |MAJOR DEEGAN EXPRESSWAY RAMP|null                          |null                       |0                       |0                      |0                            |0                           |0                        |0                       |0                         |0                        |Unspecified                   |Unspecified                  |null                         |null                         |null                         |4407458     |Dump                               |Sedan                              |null               |null               |null               |12  |04/14/2021 12:00|\n",
      "|12/14/2021|17:05     |null     |null    |null    |null     |(40.709183, -73.956825)|BROOKLYN QUEENS EXPRESSWAY  |null                          |null                       |0                       |0                      |0                            |0                           |0                        |0                       |0                         |0                        |Passing Too Closely           |Unspecified                  |null                         |null                         |null                         |4486555     |Sedan                              |Tractor Truck Diesel               |null               |null               |null               |17  |12/14/2021 17:00|\n",
      "|12/14/2021|8:17      |BRONX    |10475   |null    |null     |(40.86816, -73.83148)  |null                        |null                          |344       BAYCHESTER AVENUE|2                       |0                      |0                            |0                           |0                        |0                       |2                         |0                        |Unspecified                   |Unspecified                  |null                         |null                         |null                         |4486660     |Sedan                              |Sedan                              |null               |null               |null               |8   |12/14/2021 8:00 |\n",
      "|12/14/2021|21:10     |BROOKLYN |11207   |null    |null     |(40.67172, -73.8971)   |null                        |null                          |2047      PITKIN AVENUE    |0                       |0                      |0                            |0                           |0                        |0                       |0                         |0                        |Driver Inexperience           |Unspecified                  |null                         |null                         |null                         |4487074     |Sedan                              |null                               |null               |null               |null               |21  |12/14/2021 21:00|\n",
      "|12/14/2021|14:58     |MANHATTAN|10017   |null    |null     |(40.75144, -73.97397)  |3 AVENUE                    |EAST 43 STREET                |null                       |0                       |0                      |0                            |0                           |0                        |0                       |0                         |0                        |Passing Too Closely           |Unspecified                  |null                         |null                         |null                         |4486519     |Sedan                              |Station Wagon/Sport Utility Vehicle|null               |null               |null               |14  |12/14/2021 14:00|\n",
      "|12/13/2021|0:34      |null     |null    |null    |null     |(40.701275, -73.88887) |MYRTLE AVENUE               |null                          |null                       |0                       |0                      |0                            |0                           |0                        |0                       |0                         |0                        |Passing or Lane Usage Improper|Unspecified                  |null                         |null                         |null                         |4486934     |Station Wagon/Sport Utility Vehicle|null                               |null               |null               |null               |0   |12/13/2021 0:00 |\n",
      "|12/14/2021|16:50     |QUEENS   |11413   |null    |null     |(40.675884, -73.75577) |SPRINGFIELD BOULEVARD       |EAST GATE PLAZA               |null                       |0                       |0                      |0                            |0                           |0                        |0                       |0                         |0                        |Turning Improperly            |Unspecified                  |null                         |null                         |null                         |4487127     |Sedan                              |Station Wagon/Sport Utility Vehicle|null               |null               |null               |16  |12/14/2021 16:00|\n",
      "|12/14/2021|8:30      |null     |null    |null    |null     |null                   |broadway                    |west 80 street -west 81 street|null                       |0                       |0                      |0                            |0                           |0                        |0                       |0                         |0                        |Unsafe Lane Changing          |Unspecified                  |null                         |null                         |null                         |4486634     |Station Wagon/Sport Utility Vehicle|Sedan                              |null               |null               |null               |8   |12/14/2021 8:00 |\n",
      "|12/14/2021|0:59      |null     |null    |null    |null     |(40.59662, -74.00231)  |BELT PARKWAY                |null                          |null                       |0                       |0                      |0                            |0                           |0                        |0                       |0                         |0                        |Unsafe Speed                  |null                         |null                         |null                         |null                         |4486564     |Sedan                              |null                               |null               |null               |null               |0   |12/14/2021 0:00 |\n",
      "|12/14/2021|23:10     |QUEENS   |11434   |null    |null     |(40.66684, -73.78941)  |NORTH CONDUIT AVENUE        |150 STREET                    |null                       |2                       |0                      |0                            |0                           |0                        |0                       |2                         |0                        |Reaction to Uninvolved Vehicle|Unspecified                  |null                         |null                         |null                         |4486635     |Sedan                              |Sedan                              |null               |null               |null               |23  |12/14/2021 23:00|\n",
      "|12/14/2021|17:58     |BROOKLYN |11217   |null    |null     |(40.68158, -73.97463)  |null                        |null                          |480       DEAN STREET      |0                       |0                      |0                            |0                           |0                        |0                       |0                         |0                        |Passing Too Closely           |Unspecified                  |null                         |null                         |null                         |4486604     |Tanker                             |Station Wagon/Sport Utility Vehicle|null               |null               |null               |17  |12/14/2021 17:00|\n",
      "|12/14/2021|20:03     |BROOKLYN |11226   |null    |null     |(40.65068, -73.95881)  |null                        |null                          |878       FLATBUSH AVENUE  |4                       |0                      |0                            |0                           |0                        |0                       |4                         |0                        |Steering Failure              |null                         |null                         |null                         |null                         |4486991     |Sedan                              |null                               |null               |null               |null               |20  |12/14/2021 20:00|\n",
      "|12/14/2021|1:28      |null     |null    |null    |null     |null                   |MEEKER AVENUE               |LORIMER STREET                |null                       |3                       |0                      |0                            |0                           |0                        |0                       |3                         |0                        |Traffic Control Disregarded   |Unspecified                  |null                         |null                         |null                         |4486284     |Station Wagon/Sport Utility Vehicle|Station Wagon/Sport Utility Vehicle|null               |null               |null               |1   |12/14/2021 1:00 |\n",
      "|12/11/2021|19:43     |BRONX    |10463   |null    |null     |(40.87262, -73.904686) |WEST KINGSBRIDGE ROAD       |HEATH AVENUE                  |null                       |1                       |0                      |0                            |0                           |0                        |0                       |1                         |0                        |Unspecified                   |Unspecified                  |null                         |null                         |null                         |4487040     |Station Wagon/Sport Utility Vehicle|Sedan                              |null               |null               |null               |19  |12/11/2021 19:00|\n",
      "|12/14/2021|14:30     |null     |null    |null    |null     |(40.783268, -73.82485) |WHITESTONE EXPRESSWAY       |null                          |null                       |0                       |0                      |0                            |0                           |0                        |0                       |0                         |0                        |Following Too Closely         |Unspecified                  |Unspecified                  |null                         |null                         |4486537     |Station Wagon/Sport Utility Vehicle|Sedan                              |Sedan              |null               |null               |14  |12/14/2021 14:00|\n",
      "+----------+----------+---------+--------+--------+---------+-----------------------+----------------------------+------------------------------+---------------------------+------------------------+-----------------------+-----------------------------+----------------------------+-------------------------+------------------------+--------------------------+-------------------------+------------------------------+-----------------------------+-----------------------------+-----------------------------+-----------------------------+------------+-----------------------------------+-----------------------------------+-------------------+-------------------+-------------------+----+----------------+\n",
      "only showing top 20 rows\n",
      "\n"
     ]
    }
   ],
   "source": [
    "from pyspark.sql.functions import *\n",
    "from pyspark.sql.functions import concat, lit, col\n",
    "crash = crash.withColumn('hour', split(crash['crash_time'], ':').getItem(0)).select( \"*\",concat(col(\"crash_date\"),lit(\" \"),col(\"hour\"),lit(\":00\")).alias(\"crash_date_time\"))\n",
    "crash.show(truncate=False)"
   ]
  },
  {
   "cell_type": "code",
   "execution_count": 11,
   "id": "09bed895",
   "metadata": {
    "colab": {
     "base_uri": "https://localhost:8080/"
    },
    "executionInfo": {
     "elapsed": 10,
     "status": "ok",
     "timestamp": 1677827745551,
     "user": {
      "displayName": "Nainesh Khanjire",
      "userId": "14213602997640838989"
     },
     "user_tz": -330
    },
    "id": "09bed895",
    "outputId": "23fb1fc3-c158-4096-f6dc-abcb815a25fb"
   },
   "outputs": [
    {
     "name": "stdout",
     "output_type": "stream",
     "text": [
      "root\n",
      " |-- crash_date: string (nullable = true)\n",
      " |-- crash_time: string (nullable = true)\n",
      " |-- borough: string (nullable = true)\n",
      " |-- zip_code: integer (nullable = true)\n",
      " |-- latitude: integer (nullable = true)\n",
      " |-- longitude: integer (nullable = true)\n",
      " |-- location: string (nullable = true)\n",
      " |-- street_name: string (nullable = true)\n",
      " |-- cross_street_name: string (nullable = true)\n",
      " |-- off_street_name: string (nullable = true)\n",
      " |-- number_of_people_injured: integer (nullable = true)\n",
      " |-- number_of_people_killed: integer (nullable = true)\n",
      " |-- number_of_pedestrians_injured: integer (nullable = true)\n",
      " |-- number_of_pedestrians_killed: integer (nullable = true)\n",
      " |-- number_of_cyclist_injured: integer (nullable = true)\n",
      " |-- number_of_cyclist_killed: integer (nullable = true)\n",
      " |-- number_of_motorist_injured: integer (nullable = true)\n",
      " |-- number_of_motorist_killed: integer (nullable = true)\n",
      " |-- contributing_factor_vehicle_1: string (nullable = true)\n",
      " |-- contributing_factor_vehicle_2: string (nullable = true)\n",
      " |-- contributing_factor_vehicle_3: string (nullable = true)\n",
      " |-- contributing_factor_vehicle_4: string (nullable = true)\n",
      " |-- contributing_factor_vehicle_5: string (nullable = true)\n",
      " |-- collision_id: integer (nullable = true)\n",
      " |-- vehicle_type_code_1: string (nullable = true)\n",
      " |-- vehicle_type_code_2: string (nullable = true)\n",
      " |-- vehicle_type_code_3: string (nullable = true)\n",
      " |-- vehicle_type_code_4: string (nullable = true)\n",
      " |-- vehicle_type_code_5: string (nullable = true)\n",
      " |-- hour: string (nullable = true)\n",
      " |-- crash_date_time: string (nullable = true)\n",
      "\n"
     ]
    }
   ],
   "source": [
    "crash.printSchema()"
   ]
  },
  {
   "cell_type": "code",
   "execution_count": 12,
   "id": "_WYOCWehmeS0",
   "metadata": {
    "executionInfo": {
     "elapsed": 6,
     "status": "ok",
     "timestamp": 1677827745552,
     "user": {
      "displayName": "Nainesh Khanjire",
      "userId": "14213602997640838989"
     },
     "user_tz": -330
    },
    "id": "_WYOCWehmeS0"
   },
   "outputs": [],
   "source": [
    "crash = crash.drop('hour')"
   ]
  },
  {
   "cell_type": "code",
   "execution_count": 13,
   "id": "V3PzjP1Vmqkg",
   "metadata": {
    "colab": {
     "base_uri": "https://localhost:8080/"
    },
    "executionInfo": {
     "elapsed": 6,
     "status": "ok",
     "timestamp": 1677827745552,
     "user": {
      "displayName": "Nainesh Khanjire",
      "userId": "14213602997640838989"
     },
     "user_tz": -330
    },
    "id": "V3PzjP1Vmqkg",
    "outputId": "50b9f4e8-0f78-4aa3-a92b-30734309530a"
   },
   "outputs": [
    {
     "name": "stdout",
     "output_type": "stream",
     "text": [
      "root\n",
      " |-- crash_date: string (nullable = true)\n",
      " |-- crash_time: string (nullable = true)\n",
      " |-- borough: string (nullable = true)\n",
      " |-- zip_code: integer (nullable = true)\n",
      " |-- latitude: integer (nullable = true)\n",
      " |-- longitude: integer (nullable = true)\n",
      " |-- location: string (nullable = true)\n",
      " |-- street_name: string (nullable = true)\n",
      " |-- cross_street_name: string (nullable = true)\n",
      " |-- off_street_name: string (nullable = true)\n",
      " |-- number_of_people_injured: integer (nullable = true)\n",
      " |-- number_of_people_killed: integer (nullable = true)\n",
      " |-- number_of_pedestrians_injured: integer (nullable = true)\n",
      " |-- number_of_pedestrians_killed: integer (nullable = true)\n",
      " |-- number_of_cyclist_injured: integer (nullable = true)\n",
      " |-- number_of_cyclist_killed: integer (nullable = true)\n",
      " |-- number_of_motorist_injured: integer (nullable = true)\n",
      " |-- number_of_motorist_killed: integer (nullable = true)\n",
      " |-- contributing_factor_vehicle_1: string (nullable = true)\n",
      " |-- contributing_factor_vehicle_2: string (nullable = true)\n",
      " |-- contributing_factor_vehicle_3: string (nullable = true)\n",
      " |-- contributing_factor_vehicle_4: string (nullable = true)\n",
      " |-- contributing_factor_vehicle_5: string (nullable = true)\n",
      " |-- collision_id: integer (nullable = true)\n",
      " |-- vehicle_type_code_1: string (nullable = true)\n",
      " |-- vehicle_type_code_2: string (nullable = true)\n",
      " |-- vehicle_type_code_3: string (nullable = true)\n",
      " |-- vehicle_type_code_4: string (nullable = true)\n",
      " |-- vehicle_type_code_5: string (nullable = true)\n",
      " |-- crash_date_time: string (nullable = true)\n",
      "\n"
     ]
    }
   ],
   "source": [
    "crash.printSchema()"
   ]
  },
  {
   "cell_type": "code",
   "execution_count": 14,
   "id": "8505eade",
   "metadata": {
    "executionInfo": {
     "elapsed": 4,
     "status": "ok",
     "timestamp": 1677827745552,
     "user": {
      "displayName": "Nainesh Khanjire",
      "userId": "14213602997640838989"
     },
     "user_tz": -330
    },
    "id": "8505eade"
   },
   "outputs": [],
   "source": [
    "from pyspark.sql import functions as F\n",
    "from pyspark.sql import types as T\n",
    "from pyspark.sql import Row"
   ]
  },
  {
   "cell_type": "code",
   "execution_count": 15,
   "id": "2e7a1c49",
   "metadata": {
    "executionInfo": {
     "elapsed": 1778,
     "status": "ok",
     "timestamp": 1677827747326,
     "user": {
      "displayName": "Nainesh Khanjire",
      "userId": "14213602997640838989"
     },
     "user_tz": -330
    },
    "id": "2e7a1c49"
   },
   "outputs": [],
   "source": [
    "#loading weather data\n",
    "\n",
    "weather_data =spark.read.csv(r'/weather_scraping.csv',inferSchema=True, header=True).toDF('date','timestamp','time_of_day','temperature','condition','pressure','dew_point','humidity','visibility_in_miles',\n",
    "                                                                                          'wind_chill_temp','wdir_cardinal','wind_gust','wind_speed','maximum_temp','minimum_temp','precipitation_rate','snow_rate')"
   ]
  },
  {
   "cell_type": "code",
   "execution_count": 16,
   "id": "1acac49e",
   "metadata": {
    "executionInfo": {
     "elapsed": 19,
     "status": "ok",
     "timestamp": 1677827747326,
     "user": {
      "displayName": "Nainesh Khanjire",
      "userId": "14213602997640838989"
     },
     "user_tz": -330
    },
    "id": "1acac49e"
   },
   "outputs": [],
   "source": [
    "weather_data = weather_data.where(weather_data.condition!='0')"
   ]
  },
  {
   "cell_type": "code",
   "execution_count": 17,
   "id": "234c9498",
   "metadata": {
    "colab": {
     "base_uri": "https://localhost:8080/"
    },
    "executionInfo": {
     "elapsed": 19,
     "status": "ok",
     "timestamp": 1677827747326,
     "user": {
      "displayName": "Nainesh Khanjire",
      "userId": "14213602997640838989"
     },
     "user_tz": -330
    },
    "id": "234c9498",
    "outputId": "ae0318d7-e07d-45ec-8747-83b52b63abef"
   },
   "outputs": [
    {
     "name": "stdout",
     "output_type": "stream",
     "text": [
      "root\n",
      " |-- date: timestamp (nullable = true)\n",
      " |-- timestamp: timestamp (nullable = true)\n",
      " |-- time_of_day: string (nullable = true)\n",
      " |-- temperature: integer (nullable = true)\n",
      " |-- condition: string (nullable = true)\n",
      " |-- pressure: string (nullable = true)\n",
      " |-- dew_point: integer (nullable = true)\n",
      " |-- humidity: integer (nullable = true)\n",
      " |-- visibility_in_miles: double (nullable = true)\n",
      " |-- wind_chill_temp: integer (nullable = true)\n",
      " |-- wdir_cardinal: string (nullable = true)\n",
      " |-- wind_gust: integer (nullable = true)\n",
      " |-- wind_speed: integer (nullable = true)\n",
      " |-- maximum_temp: integer (nullable = true)\n",
      " |-- minimum_temp: integer (nullable = true)\n",
      " |-- precipitation_rate: double (nullable = true)\n",
      " |-- snow_rate: integer (nullable = true)\n",
      "\n"
     ]
    }
   ],
   "source": [
    "weather_data.printSchema()"
   ]
  },
  {
   "cell_type": "code",
   "execution_count": 18,
   "id": "a2350005",
   "metadata": {
    "colab": {
     "base_uri": "https://localhost:8080/"
    },
    "executionInfo": {
     "elapsed": 17,
     "status": "ok",
     "timestamp": 1677827747326,
     "user": {
      "displayName": "Nainesh Khanjire",
      "userId": "14213602997640838989"
     },
     "user_tz": -330
    },
    "id": "a2350005",
    "outputId": "bb5b0791-f602-4a0b-cefe-27a4739dc2f9"
   },
   "outputs": [
    {
     "name": "stdout",
     "output_type": "stream",
     "text": [
      "+-------------------+-------------------+-----------+-----------+-------------+--------+---------+--------+-------------------+---------------+-------------+---------+----------+------------+------------+------------------+---------+----+\n",
      "|               date|          timestamp|time_of_day|temperature|    condition|pressure|dew_point|humidity|visibility_in_miles|wind_chill_temp|wdir_cardinal|wind_gust|wind_speed|maximum_temp|minimum_temp|precipitation_rate|snow_rate|hour|\n",
      "+-------------------+-------------------+-----------+-----------+-------------+--------+---------+--------+-------------------+---------------+-------------+---------+----------+------------+------------+------------------+---------+----+\n",
      "|2016-03-16 00:00:00|2023-03-03 10:21:00|          N|         50|Mostly Cloudy|    null|       46|      86|               10.0|             50|            E|     null|         3|          57|          45|               0.0|     null|  10|\n",
      "+-------------------+-------------------+-----------+-----------+-------------+--------+---------+--------+-------------------+---------------+-------------+---------+----------+------------+------------+------------------+---------+----+\n",
      "only showing top 1 row\n",
      "\n"
     ]
    }
   ],
   "source": [
    "from pyspark.sql.functions import concat, lit, col\n",
    "weather_data = weather_data.withColumn(\"hour\", F.hour(F.col(\"timestamp\")))\n",
    "\n",
    "weather_data.show(1)\n",
    "# we get hour column here"
   ]
  },
  {
   "cell_type": "code",
   "execution_count": 18,
   "id": "8a3466a7",
   "metadata": {
    "executionInfo": {
     "elapsed": 17,
     "status": "ok",
     "timestamp": 1677827747327,
     "user": {
      "displayName": "Nainesh Khanjire",
      "userId": "14213602997640838989"
     },
     "user_tz": -330
    },
    "id": "8a3466a7"
   },
   "outputs": [],
   "source": []
  },
  {
   "cell_type": "code",
   "execution_count": 19,
   "id": "c89a80d2",
   "metadata": {
    "colab": {
     "base_uri": "https://localhost:8080/"
    },
    "executionInfo": {
     "elapsed": 16,
     "status": "ok",
     "timestamp": 1677827747327,
     "user": {
      "displayName": "Nainesh Khanjire",
      "userId": "14213602997640838989"
     },
     "user_tz": -330
    },
    "id": "c89a80d2",
    "outputId": "e84682e2-d5c8-4039-a18b-de0f4a5420e9"
   },
   "outputs": [
    {
     "name": "stdout",
     "output_type": "stream",
     "text": [
      "+----------+-------------------+-----------+-----------+-------------+--------+---------+--------+-------------------+---------------+-------------+---------+----------+------------+------------+------------------+---------+----+\n",
      "|      date|          timestamp|time_of_day|temperature|    condition|pressure|dew_point|humidity|visibility_in_miles|wind_chill_temp|wdir_cardinal|wind_gust|wind_speed|maximum_temp|minimum_temp|precipitation_rate|snow_rate|hour|\n",
      "+----------+-------------------+-----------+-----------+-------------+--------+---------+--------+-------------------+---------------+-------------+---------+----------+------------+------------+------------------+---------+----+\n",
      "|03/16/2016|2023-03-03 10:21:00|          N|         50|Mostly Cloudy|    null|       46|      86|               10.0|             50|            E|     null|         3|          57|          45|               0.0|     null|  10|\n",
      "+----------+-------------------+-----------+-----------+-------------+--------+---------+--------+-------------------+---------------+-------------+---------+----------+------------+------------+------------------+---------+----+\n",
      "only showing top 1 row\n",
      "\n"
     ]
    }
   ],
   "source": [
    "# we format date column because it has 00:00:00 as timestamp value, which is not usefull for us\n",
    "# also format date as mm/dd/yyyy to match with crash dataset\n",
    "weather = weather_data.withColumn(\"date\", F.date_format(\"date\", \"MM/dd/yyyy\"))\n",
    "weather.show(1)"
   ]
  },
  {
   "cell_type": "code",
   "execution_count": 20,
   "id": "9e776cd5",
   "metadata": {
    "colab": {
     "base_uri": "https://localhost:8080/"
    },
    "executionInfo": {
     "elapsed": 15,
     "status": "ok",
     "timestamp": 1677827747327,
     "user": {
      "displayName": "Nainesh Khanjire",
      "userId": "14213602997640838989"
     },
     "user_tz": -330
    },
    "id": "9e776cd5",
    "outputId": "f987e2cc-c85b-4ca2-9da1-c91310d4b006"
   },
   "outputs": [
    {
     "name": "stdout",
     "output_type": "stream",
     "text": [
      "+----------+-------------------+-----------+-----------+-------------+---------------+---------+--------+-------------------+---------------+-------------+---------+----------+------------+------------+------------------+---------+----+-----------------+\n",
      "|      date|          timestamp|time_of_day|temperature|    condition|       pressure|dew_point|humidity|visibility_in_miles|wind_chill_temp|wdir_cardinal|wind_gust|wind_speed|maximum_temp|minimum_temp|precipitation_rate|snow_rate|hour|weather_date_time|\n",
      "+----------+-------------------+-----------+-----------+-------------+---------------+---------+--------+-------------------+---------------+-------------+---------+----------+------------+------------+------------------+---------+----+-----------------+\n",
      "|03/16/2016|2023-03-03 10:21:00|          N|         50|Mostly Cloudy|           null|       46|      86|               10.0|             50|            E|     null|         3|          57|          45|               0.0|     null|  10| 03/16/2016 10:00|\n",
      "|03/16/2016|2023-03-03 11:21:00|          N|         47|         Fair|Falling Rapidly|       43|      86|               10.0|             47|           SW|     null|         3|        null|        null|               0.0|     null|  11| 03/16/2016 11:00|\n",
      "|03/16/2016|2023-03-03 12:21:00|          N|         46|         Fair|           null|       42|      86|               10.0|             44|          ENE|     null|         5|        null|        null|               0.0|     null|  12| 03/16/2016 12:00|\n",
      "+----------+-------------------+-----------+-----------+-------------+---------------+---------+--------+-------------------+---------------+-------------+---------+----------+------------+------------+------------------+---------+----+-----------------+\n",
      "only showing top 3 rows\n",
      "\n"
     ]
    }
   ],
   "source": [
    "#weather_details = weather.select( \"*\",concat(col(\"date\"),lit(\" \"),col(\"hour\"),lit(\":00\")).alias(\"weather_date_time\"))\n",
    "weather_details = weather.select( \"*\",concat(col(\"date\"),lit(\" \"),col(\"hour\"),lit(\":00\")).alias(\"weather_date_time\"))\n",
    "weather_details.show(3)"
   ]
  },
  {
   "cell_type": "code",
   "execution_count": 21,
   "id": "a6721094",
   "metadata": {
    "colab": {
     "base_uri": "https://localhost:8080/"
    },
    "executionInfo": {
     "elapsed": 13,
     "status": "ok",
     "timestamp": 1677827747327,
     "user": {
      "displayName": "Nainesh Khanjire",
      "userId": "14213602997640838989"
     },
     "user_tz": -330
    },
    "id": "a6721094",
    "outputId": "16e0bc7f-096e-47f4-d6d9-77c6980b2124"
   },
   "outputs": [
    {
     "name": "stdout",
     "output_type": "stream",
     "text": [
      "+----------+-------------------+-----------+-----------+--------------------+---------------+---------+--------+-------------------+---------------+-------------+---------+----------+------------+------------+------------------+---------+----+-----------------+\n",
      "|      date|          timestamp|time_of_day|temperature|           condition|       pressure|dew_point|humidity|visibility_in_miles|wind_chill_temp|wdir_cardinal|wind_gust|wind_speed|maximum_temp|minimum_temp|precipitation_rate|snow_rate|hour|weather_date_time|\n",
      "+----------+-------------------+-----------+-----------+--------------------+---------------+---------+--------+-------------------+---------------+-------------+---------+----------+------------+------------+------------------+---------+----+-----------------+\n",
      "|03/16/2016|2023-03-03 10:21:00|          N|         50|       Mostly Cloudy|           null|       46|      86|               10.0|             50|            E|     null|         3|          57|          45|               0.0|     null|  10| 03/16/2016 10:00|\n",
      "|03/16/2016|2023-03-03 11:21:00|          N|         47|                Fair|Falling Rapidly|       43|      86|               10.0|             47|           SW|     null|         3|        null|        null|               0.0|     null|  11| 03/16/2016 11:00|\n",
      "|03/16/2016|2023-03-03 12:21:00|          N|         46|                Fair|           null|       42|      86|               10.0|             44|          ENE|     null|         5|        null|        null|               0.0|     null|  12| 03/16/2016 12:00|\n",
      "|03/16/2016|2023-03-03 13:21:00|          N|         46|                Fair|           null|       42|      86|               10.0|             46|         CALM|     null|         0|        null|        null|               0.0|     null|  13| 03/16/2016 13:00|\n",
      "|03/16/2016|2023-03-03 14:21:00|          N|         45|       Partly Cloudy|         Steady|       41|      86|               10.0|             45|         CALM|     null|         0|        null|        null|               0.0|     null|  14| 03/16/2016 14:00|\n",
      "|03/16/2016|2023-03-03 15:21:00|          N|         44|                 Fog|           null|       41|      89|                2.0|             44|         CALM|     null|         0|        null|        null|               0.0|     null|  15| 03/16/2016 15:00|\n",
      "|03/16/2016|2023-03-03 16:21:00|          D|         45|       Partly Cloudy|           null|       41|      86|               10.0|             45|         CALM|     null|         0|        null|        null|               0.0|     null|  16| 03/16/2016 16:00|\n",
      "|03/16/2016|2023-03-03 17:21:00|          D|         46|         Shallow Fog|         Rising|       44|      93|               10.0|             46|          ESE|     null|         3|        null|        null|               0.0|     null|  17| 03/16/2016 17:00|\n",
      "|03/16/2016|2023-03-03 18:21:00|          D|         49|         Shallow Fog|           null|       44|      83|               10.0|             49|            S|     null|         3|        null|        null|               0.0|     null|  18| 03/16/2016 18:00|\n",
      "|03/16/2016|2023-03-03 19:21:00|          D|         52|       Mostly Cloudy|           null|       44|      74|               10.0|             52|            S|     null|         3|        null|        null|               0.0|     null|  19| 03/16/2016 19:00|\n",
      "|03/16/2016|2023-03-03 20:21:00|          D|         52|       Mostly Cloudy|         Steady|       44|      74|               10.0|             52|          SSW|     null|         3|        null|        null|               0.0|     null|  20| 03/16/2016 20:00|\n",
      "|03/16/2016|2023-03-03 21:21:00|          D|         53|       Mostly Cloudy|           null|       43|      69|               10.0|             53|          SSW|     null|        10|        null|        null|               0.0|     null|  21| 03/16/2016 21:00|\n",
      "|03/16/2016|2023-03-03 22:21:00|          D|         55|       Mostly Cloudy|           null|       44|      67|               10.0|             55|          SSW|     null|         9|        null|        null|               0.0|     null|  22| 03/16/2016 22:00|\n",
      "|03/16/2016|2023-03-03 23:21:00|          D|         56|       Mostly Cloudy|Falling Rapidly|       44|      64|               10.0|             56|            S|     null|         8|        null|        null|               0.0|     null|  23| 03/16/2016 23:00|\n",
      "|03/16/2016|2023-03-03 00:21:00|          D|         56|       Mostly Cloudy|           null|       44|      64|               10.0|             56|            S|     null|        10|        null|        null|               0.0|     null|   0|  03/16/2016 0:00|\n",
      "|03/16/2016|2023-03-03 01:21:00|          D|         55|       Mostly Cloudy|           null|       43|      64|               10.0|             55|          SSE|     null|         9|        null|        null|               0.0|     null|   1|  03/16/2016 1:00|\n",
      "|03/16/2016|2023-03-03 02:21:00|          D|         53|              Cloudy|        Falling|       43|      69|               10.0|             53|            S|     null|        10|        null|        null|               0.0|     null|   2|  03/16/2016 2:00|\n",
      "|03/16/2016|2023-03-03 03:21:00|          D|         50|              Cloudy|           null|       44|      80|               10.0|             50|            S|     null|        10|        null|        null|               0.0|     null|   3|  03/16/2016 3:00|\n",
      "|03/16/2016|2023-03-03 04:10:00|          D|         48|Light Rain with T...|           null|       45|      87|               10.0|             44|          SSW|     null|        10|        null|        null|               0.0|     null|   4|  03/16/2016 4:00|\n",
      "|03/16/2016|2023-03-03 04:21:00|          D|         49|Light Rain with T...|           null|       44|      83|               10.0|             45|            S|     null|         9|        null|        null|               0.0|     null|   4|  03/16/2016 4:00|\n",
      "+----------+-------------------+-----------+-----------+--------------------+---------------+---------+--------+-------------------+---------------+-------------+---------+----------+------------+------------+------------------+---------+----+-----------------+\n",
      "only showing top 20 rows\n",
      "\n"
     ]
    }
   ],
   "source": [
    "weather_details.show()"
   ]
  },
  {
   "cell_type": "markdown",
   "id": "67c0d385",
   "metadata": {
    "id": "67c0d385"
   },
   "source": [
    "## **merge datasets on common date_time column**"
   ]
  },
  {
   "cell_type": "code",
   "execution_count": 22,
   "id": "657b11a7",
   "metadata": {
    "executionInfo": {
     "elapsed": 12,
     "status": "ok",
     "timestamp": 1677827747327,
     "user": {
      "displayName": "Nainesh Khanjire",
      "userId": "14213602997640838989"
     },
     "user_tz": -330
    },
    "id": "657b11a7"
   },
   "outputs": [],
   "source": [
    "merged_data = crash.join(weather_details, crash[\"crash_date_time\"] == weather_details[\"weather_date_time\"],'inner')"
   ]
  },
  {
   "cell_type": "code",
   "execution_count": 23,
   "id": "54c161e1-7652-475d-a8c2-3f10f9cc2478",
   "metadata": {
    "colab": {
     "base_uri": "https://localhost:8080/"
    },
    "executionInfo": {
     "elapsed": 12,
     "status": "ok",
     "timestamp": 1677827747327,
     "user": {
      "displayName": "Nainesh Khanjire",
      "userId": "14213602997640838989"
     },
     "user_tz": -330
    },
    "id": "54c161e1-7652-475d-a8c2-3f10f9cc2478",
    "outputId": "c4441faa-e977-4970-d6e3-49c282aadfd8",
    "tags": []
   },
   "outputs": [
    {
     "data": {
      "text/plain": [
       "['crash_date',\n",
       " 'crash_time',\n",
       " 'borough',\n",
       " 'zip_code',\n",
       " 'latitude',\n",
       " 'longitude',\n",
       " 'location',\n",
       " 'street_name',\n",
       " 'cross_street_name',\n",
       " 'off_street_name',\n",
       " 'number_of_people_injured',\n",
       " 'number_of_people_killed',\n",
       " 'number_of_pedestrians_injured',\n",
       " 'number_of_pedestrians_killed',\n",
       " 'number_of_cyclist_injured',\n",
       " 'number_of_cyclist_killed',\n",
       " 'number_of_motorist_injured',\n",
       " 'number_of_motorist_killed',\n",
       " 'contributing_factor_vehicle_1',\n",
       " 'contributing_factor_vehicle_2',\n",
       " 'contributing_factor_vehicle_3',\n",
       " 'contributing_factor_vehicle_4',\n",
       " 'contributing_factor_vehicle_5',\n",
       " 'collision_id',\n",
       " 'vehicle_type_code_1',\n",
       " 'vehicle_type_code_2',\n",
       " 'vehicle_type_code_3',\n",
       " 'vehicle_type_code_4',\n",
       " 'vehicle_type_code_5',\n",
       " 'crash_date_time',\n",
       " 'date',\n",
       " 'timestamp',\n",
       " 'time_of_day',\n",
       " 'temperature',\n",
       " 'condition',\n",
       " 'pressure',\n",
       " 'dew_point',\n",
       " 'humidity',\n",
       " 'visibility_in_miles',\n",
       " 'wind_chill_temp',\n",
       " 'wdir_cardinal',\n",
       " 'wind_gust',\n",
       " 'wind_speed',\n",
       " 'maximum_temp',\n",
       " 'minimum_temp',\n",
       " 'precipitation_rate',\n",
       " 'snow_rate',\n",
       " 'hour',\n",
       " 'weather_date_time']"
      ]
     },
     "execution_count": 23,
     "metadata": {},
     "output_type": "execute_result"
    }
   ],
   "source": [
    "merged_data.columns"
   ]
  },
  {
   "cell_type": "code",
   "execution_count": 24,
   "id": "1ca8431a",
   "metadata": {
    "colab": {
     "base_uri": "https://localhost:8080/"
    },
    "executionInfo": {
     "elapsed": 10,
     "status": "ok",
     "timestamp": 1677827747328,
     "user": {
      "displayName": "Nainesh Khanjire",
      "userId": "14213602997640838989"
     },
     "user_tz": -330
    },
    "id": "1ca8431a",
    "outputId": "41cda839-0e33-4a34-b994-a49a2216440a"
   },
   "outputs": [
    {
     "name": "stdout",
     "output_type": "stream",
     "text": [
      "root\n",
      " |-- crash_date: string (nullable = true)\n",
      " |-- crash_time: string (nullable = true)\n",
      " |-- borough: string (nullable = true)\n",
      " |-- zip_code: integer (nullable = true)\n",
      " |-- latitude: integer (nullable = true)\n",
      " |-- longitude: integer (nullable = true)\n",
      " |-- location: string (nullable = true)\n",
      " |-- street_name: string (nullable = true)\n",
      " |-- cross_street_name: string (nullable = true)\n",
      " |-- off_street_name: string (nullable = true)\n",
      " |-- number_of_people_injured: integer (nullable = true)\n",
      " |-- number_of_people_killed: integer (nullable = true)\n",
      " |-- number_of_pedestrians_injured: integer (nullable = true)\n",
      " |-- number_of_pedestrians_killed: integer (nullable = true)\n",
      " |-- number_of_cyclist_injured: integer (nullable = true)\n",
      " |-- number_of_cyclist_killed: integer (nullable = true)\n",
      " |-- number_of_motorist_injured: integer (nullable = true)\n",
      " |-- number_of_motorist_killed: integer (nullable = true)\n",
      " |-- contributing_factor_vehicle_1: string (nullable = true)\n",
      " |-- contributing_factor_vehicle_2: string (nullable = true)\n",
      " |-- contributing_factor_vehicle_3: string (nullable = true)\n",
      " |-- contributing_factor_vehicle_4: string (nullable = true)\n",
      " |-- contributing_factor_vehicle_5: string (nullable = true)\n",
      " |-- collision_id: integer (nullable = true)\n",
      " |-- vehicle_type_code_1: string (nullable = true)\n",
      " |-- vehicle_type_code_2: string (nullable = true)\n",
      " |-- vehicle_type_code_3: string (nullable = true)\n",
      " |-- vehicle_type_code_4: string (nullable = true)\n",
      " |-- vehicle_type_code_5: string (nullable = true)\n",
      " |-- crash_date_time: string (nullable = true)\n",
      " |-- date: string (nullable = true)\n",
      " |-- timestamp: timestamp (nullable = true)\n",
      " |-- time_of_day: string (nullable = true)\n",
      " |-- temperature: integer (nullable = true)\n",
      " |-- condition: string (nullable = true)\n",
      " |-- pressure: string (nullable = true)\n",
      " |-- dew_point: integer (nullable = true)\n",
      " |-- humidity: integer (nullable = true)\n",
      " |-- visibility_in_miles: double (nullable = true)\n",
      " |-- wind_chill_temp: integer (nullable = true)\n",
      " |-- wdir_cardinal: string (nullable = true)\n",
      " |-- wind_gust: integer (nullable = true)\n",
      " |-- wind_speed: integer (nullable = true)\n",
      " |-- maximum_temp: integer (nullable = true)\n",
      " |-- minimum_temp: integer (nullable = true)\n",
      " |-- precipitation_rate: double (nullable = true)\n",
      " |-- snow_rate: integer (nullable = true)\n",
      " |-- hour: integer (nullable = true)\n",
      " |-- weather_date_time: string (nullable = true)\n",
      "\n"
     ]
    }
   ],
   "source": [
    "merged_data.printSchema()"
   ]
  },
  {
   "cell_type": "code",
   "execution_count": 25,
   "id": "aca9250b-26dc-47d7-90f5-635cd06145f9",
   "metadata": {
    "colab": {
     "base_uri": "https://localhost:8080/"
    },
    "executionInfo": {
     "elapsed": 8,
     "status": "ok",
     "timestamp": 1677827747328,
     "user": {
      "displayName": "Nainesh Khanjire",
      "userId": "14213602997640838989"
     },
     "user_tz": -330
    },
    "id": "aca9250b-26dc-47d7-90f5-635cd06145f9",
    "outputId": "19a9e092-080a-4059-eda3-83ae0eb10571",
    "tags": []
   },
   "outputs": [
    {
     "data": {
      "text/plain": [
       "['crash_date',\n",
       " 'crash_time',\n",
       " 'borough',\n",
       " 'zip_code',\n",
       " 'latitude',\n",
       " 'longitude',\n",
       " 'location',\n",
       " 'street_name',\n",
       " 'cross_street_name',\n",
       " 'off_street_name',\n",
       " 'number_of_people_injured',\n",
       " 'number_of_people_killed',\n",
       " 'number_of_pedestrians_injured',\n",
       " 'number_of_pedestrians_killed',\n",
       " 'number_of_cyclist_injured',\n",
       " 'number_of_cyclist_killed',\n",
       " 'number_of_motorist_injured',\n",
       " 'number_of_motorist_killed',\n",
       " 'contributing_factor_vehicle_1',\n",
       " 'contributing_factor_vehicle_2',\n",
       " 'contributing_factor_vehicle_3',\n",
       " 'contributing_factor_vehicle_4',\n",
       " 'contributing_factor_vehicle_5',\n",
       " 'collision_id',\n",
       " 'vehicle_type_code_1',\n",
       " 'vehicle_type_code_2',\n",
       " 'vehicle_type_code_3',\n",
       " 'vehicle_type_code_4',\n",
       " 'vehicle_type_code_5',\n",
       " 'crash_date_time',\n",
       " 'date',\n",
       " 'timestamp',\n",
       " 'time_of_day',\n",
       " 'temperature',\n",
       " 'condition',\n",
       " 'pressure',\n",
       " 'dew_point',\n",
       " 'humidity',\n",
       " 'visibility_in_miles',\n",
       " 'wind_chill_temp',\n",
       " 'wdir_cardinal',\n",
       " 'wind_gust',\n",
       " 'wind_speed',\n",
       " 'maximum_temp',\n",
       " 'minimum_temp',\n",
       " 'precipitation_rate',\n",
       " 'snow_rate',\n",
       " 'hour',\n",
       " 'weather_date_time']"
      ]
     },
     "execution_count": 25,
     "metadata": {},
     "output_type": "execute_result"
    }
   ],
   "source": [
    "merged_data.columns"
   ]
  },
  {
   "cell_type": "code",
   "execution_count": 37,
   "id": "6m4TaoeVj0u6",
   "metadata": {
    "colab": {
     "base_uri": "https://localhost:8080/"
    },
    "executionInfo": {
     "elapsed": 959,
     "status": "ok",
     "timestamp": 1677827970872,
     "user": {
      "displayName": "Nainesh Khanjire",
      "userId": "14213602997640838989"
     },
     "user_tz": -330
    },
    "id": "6m4TaoeVj0u6",
    "outputId": "99088037-5fd4-4807-a8e5-c7f87c2c126a"
   },
   "outputs": [
    {
     "name": "stdout",
     "output_type": "stream",
     "text": [
      "+----------+----------+---------+--------+--------+---------+--------------------+--------------------+--------------------+--------------------+------------------------+-----------------------+-----------------------------+----------------------------+-------------------------+------------------------+--------------------------+-------------------------+-----------------------------+-----------------------------+-----------------------------+-----------------------------+-----------------------------+------------+--------------------+--------------------+-------------------+-------------------+-------------------+----------------+----------+-------------------+-----------+-----------+-------------+---------------+---------+--------+-------------------+---------------+-------------+---------+----------+------------+------------+------------------+---------+----+-----------------+\n",
      "|crash_date|crash_time|  borough|zip_code|latitude|longitude|            location|         street_name|   cross_street_name|     off_street_name|number_of_people_injured|number_of_people_killed|number_of_pedestrians_injured|number_of_pedestrians_killed|number_of_cyclist_injured|number_of_cyclist_killed|number_of_motorist_injured|number_of_motorist_killed|contributing_factor_vehicle_1|contributing_factor_vehicle_2|contributing_factor_vehicle_3|contributing_factor_vehicle_4|contributing_factor_vehicle_5|collision_id| vehicle_type_code_1| vehicle_type_code_2|vehicle_type_code_3|vehicle_type_code_4|vehicle_type_code_5| crash_date_time|      date|          timestamp|time_of_day|temperature|    condition|       pressure|dew_point|humidity|visibility_in_miles|wind_chill_temp|wdir_cardinal|wind_gust|wind_speed|maximum_temp|minimum_temp|precipitation_rate|snow_rate|hour|weather_date_time|\n",
      "+----------+----------+---------+--------+--------+---------+--------------------+--------------------+--------------------+--------------------+------------------------+-----------------------+-----------------------------+----------------------------+-------------------------+------------------------+--------------------------+-------------------------+-----------------------------+-----------------------------+-----------------------------+-----------------------------+-----------------------------+------------+--------------------+--------------------+-------------------+-------------------+-------------------+----------------+----------+-------------------+-----------+-----------+-------------+---------------+---------+--------+-------------------+---------------+-------------+---------+----------+------------+------------+------------------+---------+----+-----------------+\n",
      "|09/11/2021|      2:39|     null|    null|    null|     null|                null|WHITESTONE EXPRES...|           20 AVENUE|                null|                       2|                      0|                            0|                           0|                        0|                       0|                         2|                        0|         Aggressive Drivin...|                  Unspecified|                         null|                         null|                         null|     4455765|               Sedan|               Sedan|               null|               null|               null| 09/11/2021 2:00|09/11/2021|2023-03-03 02:21:00|          D|         75|Mostly Cloudy|        Falling|       62|      64|               10.0|             75|            S|     null|        13|        null|        null|               0.0|     null|   2|  09/11/2021 2:00|\n",
      "|03/26/2022|     11:45|     null|    null|    null|     null|                null|QUEENSBORO BRIDGE...|                null|                null|                       1|                      0|                            0|                           0|                        0|                       0|                         1|                        0|            Pavement Slippery|                         null|                         null|                         null|                         null|     4513547|               Sedan|                null|               null|               null|               null|03/26/2022 11:00|03/26/2022|2023-03-03 11:21:00|          N|         50|       Cloudy|Falling Rapidly|       36|      59|               10.0|             50|          WSW|     null|        10|        null|        null|               0.0|     null|  11| 03/26/2022 11:00|\n",
      "|06/29/2022|      6:55|     null|    null|    null|     null|                null|  THROGS NECK BRIDGE|                null|                null|                       0|                      0|                            0|                           0|                        0|                       0|                         0|                        0|         Following Too Clo...|                  Unspecified|                         null|                         null|                         null|     4541903|               Sedan|       Pick-up Truck|               null|               null|               null| 06/29/2022 6:00|06/29/2022|2023-03-03 06:21:00|          N|         71|Partly Cloudy|           null|       63|      75|               10.0|             71|            S|     null|        20|        null|        null|               0.0|     null|   6|  06/29/2022 6:00|\n",
      "|09/11/2021|      9:35| BROOKLYN|   11208|    null|     null|(40.667202, -73.8...|                null|                null|1211      LORING ...|                       0|                      0|                            0|                           0|                        0|                       0|                         0|                        0|                  Unspecified|                         null|                         null|                         null|                         null|     4456314|               Sedan|                null|               null|               null|               null| 09/11/2021 9:00|09/11/2021|2023-03-03 09:21:00|          N|         69|         Fair|           null|       60|      73|               10.0|             69|           SW|     null|        13|        null|        null|               0.0|     null|   9|  09/11/2021 9:00|\n",
      "|12/14/2021|      8:13| BROOKLYN|   11233|    null|     null|(40.683304, -73.9...|     SARATOGA AVENUE|      DECATUR STREET|                null|                       0|                      0|                            0|                           0|                        0|                       0|                         0|                        0|                         null|                         null|                         null|                         null|                         null|     4486609|                null|                null|               null|               null|               null| 12/14/2021 8:00|12/14/2021|2023-03-03 08:21:00|          N|         41|Mostly Cloudy|         Rising|       23|      49|               10.0|             36|          NNE|     null|         7|        null|        null|               0.0|     null|   8|  12/14/2021 8:00|\n",
      "|04/14/2021|     12:47|     null|    null|    null|     null|                null|MAJOR DEEGAN EXPR...|                null|                null|                       0|                      0|                            0|                           0|                        0|                       0|                         0|                        0|                  Unspecified|                  Unspecified|                         null|                         null|                         null|     4407458|                Dump|               Sedan|               null|               null|               null|04/14/2021 12:00|04/14/2021|2023-03-03 12:21:00|          N|         48|Partly Cloudy|           null|       41|      77|               10.0|             42|            S|     null|        14|        null|        null|               0.0|     null|  12| 04/14/2021 12:00|\n",
      "|12/14/2021|     17:05|     null|    null|    null|     null|(40.709183, -73.9...|BROOKLYN QUEENS E...|                null|                null|                       0|                      0|                            0|                           0|                        0|                       0|                         0|                        0|          Passing Too Closely|                  Unspecified|                         null|                         null|                         null|     4486555|               Sedan|Tractor Truck Diesel|               null|               null|               null|12/14/2021 17:00|12/14/2021|2023-03-03 17:21:00|          D|         42|Partly Cloudy| Rising Rapidly|       24|      49|               10.0|             38|           NW|     null|         6|        null|        null|               0.0|     null|  17| 12/14/2021 17:00|\n",
      "|12/14/2021|      8:17|    BRONX|   10475|    null|     null|(40.86816, -73.83...|                null|                null|344       BAYCHES...|                       2|                      0|                            0|                           0|                        0|                       0|                         2|                        0|                  Unspecified|                  Unspecified|                         null|                         null|                         null|     4486660|               Sedan|               Sedan|               null|               null|               null| 12/14/2021 8:00|12/14/2021|2023-03-03 08:21:00|          N|         41|Mostly Cloudy|         Rising|       23|      49|               10.0|             36|          NNE|     null|         7|        null|        null|               0.0|     null|   8|  12/14/2021 8:00|\n",
      "|12/14/2021|     21:10| BROOKLYN|   11207|    null|     null|(40.67172, -73.8971)|                null|                null|2047      PITKIN ...|                       0|                      0|                            0|                           0|                        0|                       0|                         0|                        0|          Driver Inexperience|                  Unspecified|                         null|                         null|                         null|     4487074|               Sedan|                null|               null|               null|               null|12/14/2021 21:00|12/14/2021|2023-03-03 21:21:00|          D|         51|Mostly Cloudy|           null|       28|      41|               10.0|             51|            N|     null|         9|        null|        null|               0.0|     null|  21| 12/14/2021 21:00|\n",
      "|12/14/2021|     14:58|MANHATTAN|   10017|    null|     null|(40.75144, -73.97...|            3 AVENUE|      EAST 43 STREET|                null|                       0|                      0|                            0|                           0|                        0|                       0|                         0|                        0|          Passing Too Closely|                  Unspecified|                         null|                         null|                         null|     4486519|               Sedan|Station Wagon/Spo...|               null|               null|               null|12/14/2021 14:00|12/14/2021|2023-03-03 14:21:00|          N|         43|Partly Cloudy|         Rising|       21|      42|               10.0|             39|          WNW|     null|         6|        null|        null|               0.0|     null|  14| 12/14/2021 14:00|\n",
      "|12/13/2021|      0:34|     null|    null|    null|     null|(40.701275, -73.8...|       MYRTLE AVENUE|                null|                null|                       0|                      0|                            0|                           0|                        0|                       0|                         0|                        0|         Passing or Lane U...|                  Unspecified|                         null|                         null|                         null|     4486934|Station Wagon/Spo...|                null|               null|               null|               null| 12/13/2021 0:00|12/13/2021|2023-03-03 00:21:00|          D|         51|         Fair|           null|       25|      36|               10.0|             51|          WSW|     null|        17|        null|        null|               0.0|     null|   0|  12/13/2021 0:00|\n",
      "|12/14/2021|     16:50|   QUEENS|   11413|    null|     null|(40.675884, -73.7...|SPRINGFIELD BOULE...|     EAST GATE PLAZA|                null|                       0|                      0|                            0|                           0|                        0|                       0|                         0|                        0|           Turning Improperly|                  Unspecified|                         null|                         null|                         null|     4487127|               Sedan|Station Wagon/Spo...|               null|               null|               null|12/14/2021 16:00|12/14/2021|2023-03-03 16:21:00|          N|         43|Partly Cloudy|           null|       22|      43|               10.0|             38|           NW|     null|         8|        null|        null|               0.0|     null|  16| 12/14/2021 16:00|\n",
      "|12/14/2021|      8:30|     null|    null|    null|     null|                null|            broadway|west 80 street -w...|                null|                       0|                      0|                            0|                           0|                        0|                       0|                         0|                        0|         Unsafe Lane Changing|                  Unspecified|                         null|                         null|                         null|     4486634|Station Wagon/Spo...|               Sedan|               null|               null|               null| 12/14/2021 8:00|12/14/2021|2023-03-03 08:21:00|          N|         41|Mostly Cloudy|         Rising|       23|      49|               10.0|             36|          NNE|     null|         7|        null|        null|               0.0|     null|   8|  12/14/2021 8:00|\n",
      "|12/14/2021|      0:59|     null|    null|    null|     null|(40.59662, -74.00...|        BELT PARKWAY|                null|                null|                       0|                      0|                            0|                           0|                        0|                       0|                         0|                        0|                 Unsafe Speed|                         null|                         null|                         null|                         null|     4486564|               Sedan|                null|               null|               null|               null| 12/14/2021 0:00|12/14/2021|2023-03-03 00:21:00|          D|         53|Partly Cloudy|           null|       23|      31|               10.0|             53|            N|     null|        12|        null|        null|               0.0|     null|   0|  12/14/2021 0:00|\n",
      "|12/14/2021|     23:10|   QUEENS|   11434|    null|     null|(40.66684, -73.78...|NORTH CONDUIT AVENUE|          150 STREET|                null|                       2|                      0|                            0|                           0|                        0|                       0|                         2|                        0|         Reaction to Uninv...|                  Unspecified|                         null|                         null|                         null|     4486635|               Sedan|               Sedan|               null|               null|               null|12/14/2021 23:00|12/14/2021|2023-03-03 23:21:00|          D|         52|Partly Cloudy|         Rising|       26|      37|               10.0|             52|          NNW|     null|        13|        null|        null|               0.0|     null|  23| 12/14/2021 23:00|\n",
      "|12/14/2021|     17:58| BROOKLYN|   11217|    null|     null|(40.68158, -73.97...|                null|                null|480       DEAN ST...|                       0|                      0|                            0|                           0|                        0|                       0|                         0|                        0|          Passing Too Closely|                  Unspecified|                         null|                         null|                         null|     4486604|              Tanker|Station Wagon/Spo...|               null|               null|               null|12/14/2021 17:00|12/14/2021|2023-03-03 17:21:00|          D|         42|Partly Cloudy| Rising Rapidly|       24|      49|               10.0|             38|           NW|     null|         6|        null|        null|               0.0|     null|  17| 12/14/2021 17:00|\n",
      "|12/14/2021|     20:03| BROOKLYN|   11226|    null|     null|(40.65068, -73.95...|                null|                null|878       FLATBUS...|                       4|                      0|                            0|                           0|                        0|                       0|                         4|                        0|             Steering Failure|                         null|                         null|                         null|                         null|     4486991|               Sedan|                null|               null|               null|               null|12/14/2021 20:00|12/14/2021|2023-03-03 20:21:00|          D|         50|Partly Cloudy|         Rising|       28|      43|               10.0|             50|            N|     null|        10|        null|        null|               0.0|     null|  20| 12/14/2021 20:00|\n",
      "|12/14/2021|      1:28|     null|    null|    null|     null|                null|       MEEKER AVENUE|      LORIMER STREET|                null|                       3|                      0|                            0|                           0|                        0|                       0|                         3|                        0|         Traffic Control D...|                  Unspecified|                         null|                         null|                         null|     4486284|Station Wagon/Spo...|Station Wagon/Spo...|               null|               null|               null| 12/14/2021 1:00|12/14/2021|2023-03-03 01:21:00|          D|         53|Partly Cloudy|           null|       24|      32|               10.0|             53|            N|     null|        12|        null|        null|               0.0|     null|   1|  12/14/2021 1:00|\n",
      "|12/11/2021|     19:43|    BRONX|   10463|    null|     null|(40.87262, -73.90...|WEST KINGSBRIDGE ...|        HEATH AVENUE|                null|                       1|                      0|                            0|                           0|                        0|                       0|                         1|                        0|                  Unspecified|                  Unspecified|                         null|                         null|                         null|     4487040|Station Wagon/Spo...|               Sedan|               null|               null|               null|12/11/2021 19:00|12/11/2021|2023-03-03 19:21:00|          D|         53|          Fog|           null|       53|     100|               0.25|             53|            S|     null|        15|        null|        null|               0.0|     null|  19| 12/11/2021 19:00|\n",
      "|12/14/2021|     14:30|     null|    null|    null|     null|(40.783268, -73.8...|WHITESTONE EXPRES...|                null|                null|                       0|                      0|                            0|                           0|                        0|                       0|                         0|                        0|         Following Too Clo...|                  Unspecified|                  Unspecified|                         null|                         null|     4486537|Station Wagon/Spo...|               Sedan|              Sedan|               null|               null|12/14/2021 14:00|12/14/2021|2023-03-03 14:21:00|          N|         43|Partly Cloudy|         Rising|       21|      42|               10.0|             39|          WNW|     null|         6|        null|        null|               0.0|     null|  14| 12/14/2021 14:00|\n",
      "+----------+----------+---------+--------+--------+---------+--------------------+--------------------+--------------------+--------------------+------------------------+-----------------------+-----------------------------+----------------------------+-------------------------+------------------------+--------------------------+-------------------------+-----------------------------+-----------------------------+-----------------------------+-----------------------------+-----------------------------+------------+--------------------+--------------------+-------------------+-------------------+-------------------+----------------+----------+-------------------+-----------+-----------+-------------+---------------+---------+--------+-------------------+---------------+-------------+---------+----------+------------+------------+------------------+---------+----+-----------------+\n",
      "only showing top 20 rows\n",
      "\n"
     ]
    }
   ],
   "source": [
    "merged_data.show()"
   ]
  },
  {
   "cell_type": "code",
   "execution_count": 27,
   "id": "NVw68SkhuyBy",
   "metadata": {
    "executionInfo": {
     "elapsed": 5,
     "status": "ok",
     "timestamp": 1677827749305,
     "user": {
      "displayName": "Nainesh Khanjire",
      "userId": "14213602997640838989"
     },
     "user_tz": -330
    },
    "id": "NVw68SkhuyBy"
   },
   "outputs": [],
   "source": [
    "# !pip install pyspark py4j"
   ]
  },
  {
   "cell_type": "code",
   "execution_count": 28,
   "id": "a4VKn73GsoJR",
   "metadata": {
    "executionInfo": {
     "elapsed": 4,
     "status": "ok",
     "timestamp": 1677827749305,
     "user": {
      "displayName": "Nainesh Khanjire",
      "userId": "14213602997640838989"
     },
     "user_tz": -330
    },
    "id": "a4VKn73GsoJR"
   },
   "outputs": [],
   "source": [
    "# final_data = merged_data.toPandas()\n"
   ]
  },
  {
   "cell_type": "code",
   "execution_count": 29,
   "id": "8kza_Q4CxGMW",
   "metadata": {
    "executionInfo": {
     "elapsed": 4,
     "status": "ok",
     "timestamp": 1677827749305,
     "user": {
      "displayName": "Nainesh Khanjire",
      "userId": "14213602997640838989"
     },
     "user_tz": -330
    },
    "id": "8kza_Q4CxGMW"
   },
   "outputs": [],
   "source": [
    "#final_data"
   ]
  },
  {
   "cell_type": "code",
   "execution_count": 29,
   "id": "Y5FRp7Jmxcqf",
   "metadata": {
    "executionInfo": {
     "elapsed": 4,
     "status": "ok",
     "timestamp": 1677827749305,
     "user": {
      "displayName": "Nainesh Khanjire",
      "userId": "14213602997640838989"
     },
     "user_tz": -330
    },
    "id": "Y5FRp7Jmxcqf"
   },
   "outputs": [],
   "source": []
  },
  {
   "cell_type": "markdown",
   "id": "ff2981da",
   "metadata": {
    "id": "ff2981da"
   },
   "source": [
    "## **push data to mongodb**"
   ]
  },
  {
   "cell_type": "code",
   "execution_count": 30,
   "id": "aAaabaa_zJtL",
   "metadata": {
    "colab": {
     "base_uri": "https://localhost:8080/"
    },
    "executionInfo": {
     "elapsed": 4314,
     "status": "ok",
     "timestamp": 1677827753615,
     "user": {
      "displayName": "Nainesh Khanjire",
      "userId": "14213602997640838989"
     },
     "user_tz": -330
    },
    "id": "aAaabaa_zJtL",
    "outputId": "806e7cbf-a11f-44e1-c193-53e7f84065e8"
   },
   "outputs": [
    {
     "name": "stdout",
     "output_type": "stream",
     "text": [
      "Looking in indexes: https://pypi.org/simple, https://us-python.pkg.dev/colab-wheels/public/simple/\n",
      "Requirement already satisfied: pymongo in /usr/local/lib/python3.8/dist-packages (4.3.3)\n",
      "Requirement already satisfied: dnspython<3.0.0,>=1.16.0 in /usr/local/lib/python3.8/dist-packages (from pymongo) (2.3.0)\n"
     ]
    }
   ],
   "source": [
    "#!pip install pymongo"
   ]
  },
  {
   "cell_type": "code",
   "execution_count": null,
   "id": "78db1ad9",
   "metadata": {
    "colab": {
     "base_uri": "https://localhost:8080/",
     "height": 381
    },
    "executionInfo": {
     "elapsed": 42286,
     "status": "error",
     "timestamp": 1677828650628,
     "user": {
      "displayName": "Nainesh Khanjire",
      "userId": "14213602997640838989"
     },
     "user_tz": -330
    },
    "id": "78db1ad9",
    "outputId": "aeb7ff5b-0c2a-4540-c667-df0a16e9bf15"
   },
   "outputs": [],
   "source": [
    "# import pymongo\n",
    "# from pyspark.sql import SparkSession\n",
    "# from pymongo import MongoClient\n",
    "# from pyspark.sql.functions import to_json\n",
    "# import json\n",
    "\n",
    "\n",
    "# client  = pymongo.MongoClient('<your_mongodb_cluster_id>')\n",
    "\n",
    "    \n",
    "# db = client['crash_weather']\n",
    "# collection = db['merged_data']\n",
    "\n",
    "\n",
    "# data = [row.asDict() for row in merged_data.collect()] # for pyspark df to dict\n",
    "\n",
    "# collection.insert_many(data)"
   ]
  },
  {
   "cell_type": "code",
   "execution_count": 34,
   "id": "-qj8KhcU431d",
   "metadata": {
    "colab": {
     "base_uri": "https://localhost:8080/"
    },
    "executionInfo": {
     "elapsed": 1094,
     "status": "ok",
     "timestamp": 1677827895078,
     "user": {
      "displayName": "Nainesh Khanjire",
      "userId": "14213602997640838989"
     },
     "user_tz": -330
    },
    "id": "-qj8KhcU431d",
    "outputId": "ac2efc2c-0af8-47ee-d9e4-b38ff41cef36"
   },
   "outputs": [
    {
     "data": {
      "text/plain": [
       "85311"
      ]
     },
     "execution_count": 34,
     "metadata": {},
     "output_type": "execute_result"
    }
   ],
   "source": [
    "merged_data.count()"
   ]
  },
  {
   "cell_type": "code",
   "execution_count": 42,
   "id": "AGUxBTa0W1MP",
   "metadata": {
    "colab": {
     "base_uri": "https://localhost:8080/"
    },
    "executionInfo": {
     "elapsed": 3,
     "status": "ok",
     "timestamp": 1677828360170,
     "user": {
      "displayName": "Nainesh Khanjire",
      "userId": "14213602997640838989"
     },
     "user_tz": -330
    },
    "id": "AGUxBTa0W1MP",
    "outputId": "2fa8e911-e996-4cc7-cd2d-33c1b0df313d"
   },
   "outputs": [
    {
     "data": {
      "text/plain": [
       "732808"
      ]
     },
     "execution_count": 42,
     "metadata": {},
     "output_type": "execute_result"
    }
   ],
   "source": [
    "import sys\n",
    "sys.getsizeof(data)"
   ]
  }
 ],
 "metadata": {
  "accelerator": "GPU",
  "colab": {
   "provenance": []
  },
  "gpuClass": "standard",
  "kernelspec": {
   "display_name": "Python 3 (ipykernel)",
   "language": "python",
   "name": "python3"
  },
  "language_info": {
   "codemirror_mode": {
    "name": "ipython",
    "version": 3
   },
   "file_extension": ".py",
   "mimetype": "text/x-python",
   "name": "python",
   "nbconvert_exporter": "python",
   "pygments_lexer": "ipython3",
   "version": "3.9.12"
  },
  "vscode": {
   "interpreter": {
    "hash": "e362d06cc908f32e8db6920f0b7bc6754cc7557171ff01d64b5f38263a887f00"
   }
  }
 },
 "nbformat": 4,
 "nbformat_minor": 5
}
