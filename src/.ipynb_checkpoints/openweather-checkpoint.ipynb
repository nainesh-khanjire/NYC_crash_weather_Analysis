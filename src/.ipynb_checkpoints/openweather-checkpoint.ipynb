{
 "cells": [
  {
   "cell_type": "markdown",
   "id": "1c5189d6-cd43-48db-9a4a-7dafce6b8dab",
   "metadata": {
    "tags": []
   },
   "source": [
    "# **PERFECTLY WORKING OPEN WEATHER**"
   ]
  },
  {
   "cell_type": "code",
   "execution_count": 19,
   "id": "7b0eb06a-db21-406c-af06-2ba51985ea5c",
   "metadata": {
    "tags": []
   },
   "outputs": [
    {
     "name": "stdout",
     "output_type": "stream",
     "text": [
      "{'coord': {'lon': -74.006, 'lat': 40.7143}, 'weather': [{'id': 701, 'main': 'Mist', 'description': 'mist', 'icon': '50n'}], 'base': 'stations', 'main': {'temp': 40.82, 'feels_like': 35.01, 'temp_min': 37.24, 'temp_max': 43, 'pressure': 1015, 'humidity': 91}, 'visibility': 8047, 'wind': {'speed': 9.22, 'deg': 50}, 'clouds': {'all': 100}, 'dt': 1677727589, 'sys': {'type': 2, 'id': 2008101, 'country': 'US', 'sunrise': 1677670236, 'sunset': 1677710794}, 'timezone': -18000, 'id': 5128581, 'name': 'New York', 'cod': 200}\n"
     ]
    }
   ],
   "source": [
    "# for testing single response\n",
    "\n",
    "import datetime as dt\n",
    "import requests\n",
    "\n",
    "api_key = '<your_api_key>'\n",
    "\n",
    "# Define the API endpoint URL and query parameters\n",
    "given_date = '2023-03-01'\n",
    "start_date = dt.datetime.strptime(given_date, '%Y-%m-%d').date()\n",
    "today = dt.date.today()\n",
    "\n",
    "url = 'https://api.openweathermap.org/data/2.5/weather?q=New York City&appid=<your_api_key>&units=imperial'\n",
    "\n",
    "\n",
    "params = {\n",
    "    'q': 'New York City',\n",
    "    'units': 'imperial',\n",
    "    'apiKey': api_key  # corrected parameter name\n",
    "}\n",
    "\n",
    "\n",
    "\n",
    "params={}\n",
    "# Send a GET request to the API endpoint\n",
    "response = requests.get(url, params=params)\n",
    "\n",
    "# If the response was successful, print the weather information\n",
    "if response.status_code == 200:\n",
    "    data = response.json()\n",
    "    print(data)\n",
    "    \n",
    "    # for api testing\n",
    "    \n",
    "#     temp = data['main']['temp']\n",
    "#     wind_speed = data['wind']['speed']\n",
    "#     latitude = data['coord']['lat']\n",
    "#     longitude = data['coord']['lon']\n",
    "#     description = data['weather'][0]['description']\n",
    "\n",
    "#     print('Temperature : {} degree celcius'.format(temp))\n",
    "#     print('Wind Speed : {} m/s'.format(wind_speed))\n",
    "#     print('Latitude : {}'.format(latitude))\n",
    "#     print('Longitude : {}'.format(longitude))\n",
    "#     print('Description : {}'.format(description))\n",
    "\n",
    "else:\n",
    "    print(f\"Error {response.status_code}: {response.text}\")\n",
    "    print(response.headers)\n"
   ]
  },
  {
   "cell_type": "code",
   "execution_count": 23,
   "id": "ddb91799-2e40-4566-a393-f7e3a98e4886",
   "metadata": {
    "tags": []
   },
   "outputs": [],
   "source": [
    "import datetime as dt\n",
    "import requests\n",
    "import csv\n",
    "\n",
    "api_key = '<your_api_key>'\n",
    "\n",
    "# Define the start date and today's date\n",
    "# gave this date to match with the nyc vehicle crash dataset \n",
    "\n",
    "given_date = '2023-02-01'\n",
    "start_date = dt.datetime.strptime(given_date, '%Y-%m-%d').date()\n",
    "today = dt.date.today()\n",
    "\n",
    "# Define the API endpoint URL and query parameters\n",
    "url = 'https://api.openweathermap.org/data/2.5/weather?q=New York City&appid=<your_api_key>&units=imperial'\n",
    "params = {\n",
    "    'q': 'New York City',\n",
    "    'units': 'imperial',\n",
    "    'apiKey': api_key\n",
    "}\n",
    "\n",
    "# Define the fieldnames for the CSV file\n",
    "fieldnames = [\"Date\", \"Temp\", \"Dew\", \"humidity\", \"Wind Cardinal\",\n",
    "              \"Wind Speed\", \"Wind Gust\", \"Pressure List\", \"Precip Rate\", \"Condition\"]\n",
    "\n",
    "\n",
    "\n",
    "# Open the CSV file and write the fieldnames to the first row\n",
    "with open('openweather_data.csv', mode='w', newline='') as file:\n",
    "    writer = csv.DictWriter(file, fieldnames=fieldnames)\n",
    "    writer.writeheader()\n",
    "\n",
    "    # Loop over every day from the start date till today\n",
    "    for date in (start_date + dt.timedelta(n) for n in range((today - start_date).days + 1)):\n",
    "        \n",
    "        # Add the current date to the query parameters\n",
    "        params['dt'] = str(int(dt.datetime(date.year, date.month, date.day, 12).timestamp()))\n",
    "\n",
    "        # Send a GET request to the API endpoint\n",
    "        response = requests.get(url, params=params)\n",
    "\n",
    "        # If the response was successful, extract the weather data and write it to the CSV file\n",
    "        if response.status_code == 200:\n",
    "            data = response.json()\n",
    "            temp = data['main']['temp']\n",
    "            #dew = data['main']['dew_point']\n",
    "            humidity = data['main']['humidity']\n",
    "            wind_cardinal = data['wind']['deg']\n",
    "            wind_speed = data['wind']['speed']\n",
    "            wind_gust = data['wind'].get('gust', '')\n",
    "            pressure = data['main']['pressure']\n",
    "            precip_rate = data['rain'].get('1h', 0) if 'rain' in data else 0\n",
    "            condition = data['weather'][0]['description']\n",
    "\n",
    "            # Write the weather data to the CSV file\n",
    "            writer.writerow({\n",
    "                'Date': date.strftime('%Y-%m-%d'),\n",
    "                'Temp': temp,\n",
    "                #'Dew': dew,\n",
    "                'humidity': humidity,\n",
    "                'Wind Cardinal': wind_cardinal,\n",
    "                'Wind Speed': wind_speed,\n",
    "                'Wind Gust': wind_gust,\n",
    "                'Pressure List': pressure,\n",
    "                'Precip Rate': precip_rate,\n",
    "                'Condition': condition\n",
    "            })\n",
    "\n",
    "        else:\n",
    "            print(f\"Error {response.status_code}: {response.text}\")\n",
    "            print(response.headers)\n"
   ]
  }
 ],
 "metadata": {
  "kernelspec": {
   "display_name": "Python 3 (ipykernel)",
   "language": "python",
   "name": "python3"
  },
  "language_info": {
   "codemirror_mode": {
    "name": "ipython",
    "version": 3
   },
   "file_extension": ".py",
   "mimetype": "text/x-python",
   "name": "python",
   "nbconvert_exporter": "python",
   "pygments_lexer": "ipython3",
   "version": "3.9.12"
  },
  "vscode": {
   "interpreter": {
    "hash": "e362d06cc908f32e8db6920f0b7bc6754cc7557171ff01d64b5f38263a887f00"
   }
  }
 },
 "nbformat": 4,
 "nbformat_minor": 5
}
